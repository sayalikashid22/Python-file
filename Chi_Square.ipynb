{
 "cells": [
  {
   "cell_type": "markdown",
   "id": "b3bc6666",
   "metadata": {
    "id": "qDNiEbA3gJXw"
   },
   "source": [
    "### **Chi-Square Test**"
   ]
  },
  {
   "cell_type": "code",
   "execution_count": 1,
   "id": "7fec046e",
   "metadata": {
    "ExecuteTime": {
     "end_time": "2022-11-26T06:52:19.169837Z",
     "start_time": "2022-11-26T06:52:15.699982Z"
    }
   },
   "outputs": [],
   "source": [
    "from scipy.stats import chi2_contingency\n",
    "from matplotlib import pyplot as plt\n",
    "import pandas as pd"
   ]
  },
  {
   "cell_type": "code",
   "execution_count": 2,
   "id": "b22c4e45",
   "metadata": {
    "ExecuteTime": {
     "end_time": "2022-11-26T06:52:20.213569Z",
     "start_time": "2022-11-26T06:52:20.195148Z"
    }
   },
   "outputs": [
    {
     "data": {
      "text/plain": [
       "[[14, 4], [0, 10]]"
      ]
     },
     "execution_count": 2,
     "metadata": {},
     "output_type": "execute_result"
    }
   ],
   "source": [
    "data=[[14,4],\n",
    "      [0,10]]\n",
    "\n",
    "data"
   ]
  },
  {
   "cell_type": "code",
   "execution_count": 3,
   "id": "a8079002",
   "metadata": {
    "ExecuteTime": {
     "end_time": "2022-11-26T06:52:23.571257Z",
     "start_time": "2022-11-26T06:52:23.523153Z"
    }
   },
   "outputs": [
    {
     "data": {
      "text/html": [
       "<div>\n",
       "<style scoped>\n",
       "    .dataframe tbody tr th:only-of-type {\n",
       "        vertical-align: middle;\n",
       "    }\n",
       "\n",
       "    .dataframe tbody tr th {\n",
       "        vertical-align: top;\n",
       "    }\n",
       "\n",
       "    .dataframe thead th {\n",
       "        text-align: right;\n",
       "    }\n",
       "</style>\n",
       "<table border=\"1\" class=\"dataframe\">\n",
       "  <thead>\n",
       "    <tr style=\"text-align: right;\">\n",
       "      <th></th>\n",
       "      <th>Non-Smoker</th>\n",
       "      <th>Smoker</th>\n",
       "    </tr>\n",
       "  </thead>\n",
       "  <tbody>\n",
       "    <tr>\n",
       "      <th>Athlete</th>\n",
       "      <td>14</td>\n",
       "      <td>4</td>\n",
       "    </tr>\n",
       "    <tr>\n",
       "      <th>Non-Athlete</th>\n",
       "      <td>0</td>\n",
       "      <td>10</td>\n",
       "    </tr>\n",
       "  </tbody>\n",
       "</table>\n",
       "</div>"
      ],
      "text/plain": [
       "             Non-Smoker  Smoker\n",
       "Athlete              14       4\n",
       "Non-Athlete           0      10"
      ]
     },
     "execution_count": 3,
     "metadata": {},
     "output_type": "execute_result"
    }
   ],
   "source": [
    "pd.DataFrame(data,\n",
    "             index = ['Athlete', 'Non-Athlete'],\n",
    "             columns = ['Non-Smoker', 'Smoker'])"
   ]
  },
  {
   "cell_type": "code",
   "execution_count": 4,
   "id": "312b3db3",
   "metadata": {
    "ExecuteTime": {
     "end_time": "2022-11-26T06:52:27.504056Z",
     "start_time": "2022-11-26T06:52:27.173011Z"
    }
   },
   "outputs": [
    {
     "data": {
      "image/png": "[encoded data removed]",
      "text/plain": [
       "<Figure size 288x216 with 1 Axes>"
      ]
     },
     "metadata": {
      "needs_background": "light"
     },
     "output_type": "display_data"
    }
   ],
   "source": [
    "plt.figure(figsize = (4,3))\n",
    "names = ['Non-Smoker', 'Smoker']\n",
    "\n",
    "#Stacked Bar Plot\n",
    "plt.bar(names, data[0])\n",
    "plt.bar(names, data[1], bottom = data[0])\n",
    "\n",
    "plt.xlabel('Smoking Habits')\n",
    "plt.ylabel('Atheletes')\n",
    "\n",
    "plt.show()"
   ]
  },
  {
   "cell_type": "code",
   "execution_count": 5,
   "id": "1fd0a164",
   "metadata": {
    "ExecuteTime": {
     "end_time": "2022-11-26T06:52:30.322147Z",
     "start_time": "2022-11-26T06:52:30.298952Z"
    }
   },
   "outputs": [
    {
     "data": {
      "text/html": [
       "<div>\n",
       "<style scoped>\n",
       "    .dataframe tbody tr th:only-of-type {\n",
       "        vertical-align: middle;\n",
       "    }\n",
       "\n",
       "    .dataframe tbody tr th {\n",
       "        vertical-align: top;\n",
       "    }\n",
       "\n",
       "    .dataframe thead th {\n",
       "        text-align: right;\n",
       "    }\n",
       "</style>\n",
       "<table border=\"1\" class=\"dataframe\">\n",
       "  <thead>\n",
       "    <tr style=\"text-align: right;\">\n",
       "      <th></th>\n",
       "      <th></th>\n",
       "      <th>Non-Smoker</th>\n",
       "      <th>Smoker</th>\n",
       "    </tr>\n",
       "  </thead>\n",
       "  <tbody>\n",
       "    <tr>\n",
       "      <th>0</th>\n",
       "      <td>Athelete</td>\n",
       "      <td>14</td>\n",
       "      <td>4</td>\n",
       "    </tr>\n",
       "    <tr>\n",
       "      <th>1</th>\n",
       "      <td>Non-Athelete</td>\n",
       "      <td>0</td>\n",
       "      <td>10</td>\n",
       "    </tr>\n",
       "  </tbody>\n",
       "</table>\n",
       "</div>"
      ],
      "text/plain": [
       "                 Non-Smoker  Smoker\n",
       "0      Athelete          14       4\n",
       "1  Non-Athelete           0      10"
      ]
     },
     "execution_count": 5,
     "metadata": {},
     "output_type": "execute_result"
    }
   ],
   "source": [
    "df = pd.DataFrame(data=[['Athelete',14,4],\n",
    "                        ['Non-Athelete',0,10]],\n",
    "                  columns = ['','Non-Smoker','Smoker'])\n",
    "\n",
    "df"
   ]
  },
  {
   "cell_type": "code",
   "execution_count": 6,
   "id": "ef87f68c",
   "metadata": {
    "ExecuteTime": {
     "end_time": "2022-11-26T06:52:33.122899Z",
     "start_time": "2022-11-26T06:52:32.898015Z"
    }
   },
   "outputs": [
    {
     "data": {
      "text/plain": [
       "<AxesSubplot:>"
      ]
     },
     "execution_count": 6,
     "metadata": {},
     "output_type": "execute_result"
    },
    {
     "data": {
      "image/png": "[encoded data removed]",
      "text/plain": [
       "<Figure size 432x288 with 1 Axes>"
      ]
     },
     "metadata": {
      "needs_background": "light"
     },
     "output_type": "display_data"
    }
   ],
   "source": [
    "df.plot(x = '',\n",
    "        kind = 'bar',\n",
    "        stacked = True)"
   ]
  },
  {
   "cell_type": "code",
   "execution_count": 7,
   "id": "2e7254bc",
   "metadata": {
    "ExecuteTime": {
     "end_time": "2022-11-26T06:52:37.649747Z",
     "start_time": "2022-11-26T06:52:37.622765Z"
    }
   },
   "outputs": [
    {
     "data": {
      "text/plain": [
       "(12.600000000000001,\n",
       " 0.0003857467556820071,\n",
       " 1,\n",
       " array([[9., 9.],\n",
       "        [5., 5.]]))"
      ]
     },
     "execution_count": 7,
     "metadata": {},
     "output_type": "execute_result"
    }
   ],
   "source": [
    "chi2_contingency(data) #test statistic, p-value, dof, expected freq"
   ]
  },
  {
   "cell_type": "code",
   "execution_count": 8,
   "id": "cb3b0432",
   "metadata": {
    "ExecuteTime": {
     "end_time": "2022-11-26T06:52:40.140934Z",
     "start_time": "2022-11-26T06:52:40.114737Z"
    }
   },
   "outputs": [
    {
     "data": {
      "text/html": [
       "<div>\n",
       "<style scoped>\n",
       "    .dataframe tbody tr th:only-of-type {\n",
       "        vertical-align: middle;\n",
       "    }\n",
       "\n",
       "    .dataframe tbody tr th {\n",
       "        vertical-align: top;\n",
       "    }\n",
       "\n",
       "    .dataframe thead th {\n",
       "        text-align: right;\n",
       "    }\n",
       "</style>\n",
       "<table border=\"1\" class=\"dataframe\">\n",
       "  <thead>\n",
       "    <tr style=\"text-align: right;\">\n",
       "      <th></th>\n",
       "      <th>Marital Status</th>\n",
       "      <th>Middle School or lower</th>\n",
       "      <th>Highschool</th>\n",
       "      <th>Bachelors</th>\n",
       "      <th>Masters</th>\n",
       "      <th>PhD or Higher</th>\n",
       "    </tr>\n",
       "  </thead>\n",
       "  <tbody>\n",
       "    <tr>\n",
       "      <th>0</th>\n",
       "      <td>Never Married</td>\n",
       "      <td>18</td>\n",
       "      <td>36</td>\n",
       "      <td>21</td>\n",
       "      <td>9</td>\n",
       "      <td>6</td>\n",
       "    </tr>\n",
       "    <tr>\n",
       "      <th>1</th>\n",
       "      <td>Married</td>\n",
       "      <td>12</td>\n",
       "      <td>36</td>\n",
       "      <td>45</td>\n",
       "      <td>36</td>\n",
       "      <td>21</td>\n",
       "    </tr>\n",
       "    <tr>\n",
       "      <th>2</th>\n",
       "      <td>Divorced</td>\n",
       "      <td>6</td>\n",
       "      <td>9</td>\n",
       "      <td>9</td>\n",
       "      <td>3</td>\n",
       "      <td>3</td>\n",
       "    </tr>\n",
       "    <tr>\n",
       "      <th>3</th>\n",
       "      <td>Widowed</td>\n",
       "      <td>3</td>\n",
       "      <td>9</td>\n",
       "      <td>9</td>\n",
       "      <td>6</td>\n",
       "      <td>3</td>\n",
       "    </tr>\n",
       "  </tbody>\n",
       "</table>\n",
       "</div>"
      ],
      "text/plain": [
       "  Marital Status  Middle School or lower  Highschool  Bachelors  Masters  \\\n",
       "0  Never Married                      18          36         21        9   \n",
       "1        Married                      12          36         45       36   \n",
       "2       Divorced                       6           9          9        3   \n",
       "3        Widowed                       3           9          9        6   \n",
       "\n",
       "   PhD or Higher  \n",
       "0              6  \n",
       "1             21  \n",
       "2              3  \n",
       "3              3  "
      ]
     },
     "execution_count": 8,
     "metadata": {},
     "output_type": "execute_result"
    }
   ],
   "source": [
    "df = pd.DataFrame(data=[['Never Married',18,36,21,9,6],\n",
    "                        ['Married',12,36,45,36,21],\n",
    "                        ['Divorced',6,9,9,3,3],\n",
    "                        ['Widowed',3,9,9,6,3]],\n",
    "                  columns = ['Marital Status','Middle School or lower','Highschool','Bachelors','Masters','PhD or Higher'])\n",
    "\n",
    "df"
   ]
  },
  {
   "cell_type": "code",
   "execution_count": 9,
   "id": "7511981e",
   "metadata": {
    "ExecuteTime": {
     "end_time": "2022-11-26T06:52:44.226721Z",
     "start_time": "2022-11-26T06:52:44.194746Z"
    }
   },
   "outputs": [
    {
     "data": {
      "text/html": [
       "<div>\n",
       "<style scoped>\n",
       "    .dataframe tbody tr th:only-of-type {\n",
       "        vertical-align: middle;\n",
       "    }\n",
       "\n",
       "    .dataframe tbody tr th {\n",
       "        vertical-align: top;\n",
       "    }\n",
       "\n",
       "    .dataframe thead th {\n",
       "        text-align: right;\n",
       "    }\n",
       "</style>\n",
       "<table border=\"1\" class=\"dataframe\">\n",
       "  <thead>\n",
       "    <tr style=\"text-align: right;\">\n",
       "      <th></th>\n",
       "      <th>Marital Status</th>\n",
       "      <th>Middle School or Lower</th>\n",
       "      <th>Highschool</th>\n",
       "      <th>Bachelors</th>\n",
       "      <th>Masters</th>\n",
       "      <th>PhD or Higher</th>\n",
       "    </tr>\n",
       "  </thead>\n",
       "  <tbody>\n",
       "    <tr>\n",
       "      <th>0</th>\n",
       "      <td>Never Married</td>\n",
       "      <td>18</td>\n",
       "      <td>36</td>\n",
       "      <td>21</td>\n",
       "      <td>9</td>\n",
       "      <td>6</td>\n",
       "    </tr>\n",
       "    <tr>\n",
       "      <th>1</th>\n",
       "      <td>Married</td>\n",
       "      <td>12</td>\n",
       "      <td>36</td>\n",
       "      <td>45</td>\n",
       "      <td>36</td>\n",
       "      <td>21</td>\n",
       "    </tr>\n",
       "    <tr>\n",
       "      <th>2</th>\n",
       "      <td>Divorced</td>\n",
       "      <td>6</td>\n",
       "      <td>9</td>\n",
       "      <td>9</td>\n",
       "      <td>3</td>\n",
       "      <td>3</td>\n",
       "    </tr>\n",
       "    <tr>\n",
       "      <th>3</th>\n",
       "      <td>Widowed</td>\n",
       "      <td>3</td>\n",
       "      <td>9</td>\n",
       "      <td>9</td>\n",
       "      <td>6</td>\n",
       "      <td>3</td>\n",
       "    </tr>\n",
       "  </tbody>\n",
       "</table>\n",
       "</div>"
      ],
      "text/plain": [
       "  Marital Status  Middle School or Lower  Highschool  Bachelors  Masters  \\\n",
       "0  Never Married                      18          36         21        9   \n",
       "1        Married                      12          36         45       36   \n",
       "2       Divorced                       6           9          9        3   \n",
       "3        Widowed                       3           9          9        6   \n",
       "\n",
       "   PhD or Higher  \n",
       "0              6  \n",
       "1             21  \n",
       "2              3  \n",
       "3              3  "
      ]
     },
     "execution_count": 9,
     "metadata": {},
     "output_type": "execute_result"
    }
   ],
   "source": [
    "#Another way of creating a dataframe\n",
    "df = pd.DataFrame({'Marital Status' : ['Never Married', 'Married', 'Divorced', 'Widowed'],\n",
    "             'Middle School or Lower' : [18, 12, 6, 3],\n",
    "             'Highschool' : [36, 36, 9, 9],\n",
    "             'Bachelors' : [21, 45, 9, 9],\n",
    "             'Masters' : [9, 36, 3, 6],\n",
    "             'PhD or Higher' : [6, 21, 3, 3]})\n",
    "df"
   ]
  },
  {
   "cell_type": "code",
   "execution_count": 10,
   "id": "7a26b102",
   "metadata": {
    "ExecuteTime": {
     "end_time": "2022-11-26T06:52:47.813932Z",
     "start_time": "2022-11-26T06:52:47.509190Z"
    }
   },
   "outputs": [
    {
     "data": {
      "text/plain": [
       "<AxesSubplot:title={'center':'Marital Status by Education'}, xlabel='Marital Status', ylabel='No. of Persons'>"
      ]
     },
     "execution_count": 10,
     "metadata": {},
     "output_type": "execute_result"
    },
    {
     "data": {
      "text/plain": [
       "<Figure size 216x144 with 0 Axes>"
      ]
     },
     "metadata": {},
     "output_type": "display_data"
    },
    {
     "data": {
      "image/png": "[encoded data removed]",
      "text/plain": [
       "<Figure size 432x288 with 1 Axes>"
      ]
     },
     "metadata": {
      "needs_background": "light"
     },
     "output_type": "display_data"
    }
   ],
   "source": [
    "plt.figure(figsize = (3,2))\n",
    "df.plot(kind = 'bar',\n",
    "        stacked = True,\n",
    "        x = 'Marital Status',\n",
    "        xlabel = 'Marital Status',\n",
    "        ylabel = 'No. of Persons',\n",
    "        title = 'Marital Status by Education')"
   ]
  },
  {
   "cell_type": "code",
   "execution_count": 11,
   "id": "0a8ca29b",
   "metadata": {
    "ExecuteTime": {
     "end_time": "2022-11-26T06:52:51.687679Z",
     "start_time": "2022-11-26T06:52:51.082244Z"
    }
   },
   "outputs": [
    {
     "name": "stderr",
     "output_type": "stream",
     "text": [
      "C:\\Users\\user\\AppData\\Local\\Temp\\ipykernel_9756\\1459321664.py:1: FutureWarning: Dropping of nuisance columns in DataFrame reductions (with 'numeric_only=None') is deprecated; in a future version this will raise TypeError.  Select only valid columns before calling the reduction.\n",
      "  df.sum(axis=1)\n"
     ]
    },
    {
     "data": {
      "text/plain": [
       "0     90\n",
       "1    150\n",
       "2     30\n",
       "3     30\n",
       "dtype: int64"
      ]
     },
     "execution_count": 11,
     "metadata": {},
     "output_type": "execute_result"
    }
   ],
   "source": [
    "df.sum(axis=1)"
   ]
  },
  {
   "cell_type": "code",
   "execution_count": 12,
   "id": "f8ec2258",
   "metadata": {
    "ExecuteTime": {
     "end_time": "2022-11-26T06:52:55.841297Z",
     "start_time": "2022-11-26T06:52:55.825125Z"
    }
   },
   "outputs": [
    {
     "data": {
      "text/html": [
       "<div>\n",
       "<style scoped>\n",
       "    .dataframe tbody tr th:only-of-type {\n",
       "        vertical-align: middle;\n",
       "    }\n",
       "\n",
       "    .dataframe tbody tr th {\n",
       "        vertical-align: top;\n",
       "    }\n",
       "\n",
       "    .dataframe thead th {\n",
       "        text-align: right;\n",
       "    }\n",
       "</style>\n",
       "<table border=\"1\" class=\"dataframe\">\n",
       "  <thead>\n",
       "    <tr style=\"text-align: right;\">\n",
       "      <th></th>\n",
       "      <th>Middle School or Lower</th>\n",
       "      <th>Highschool</th>\n",
       "      <th>Bachelors</th>\n",
       "      <th>Masters</th>\n",
       "      <th>PhD or Higher</th>\n",
       "    </tr>\n",
       "  </thead>\n",
       "  <tbody>\n",
       "    <tr>\n",
       "      <th>0</th>\n",
       "      <td>18</td>\n",
       "      <td>36</td>\n",
       "      <td>21</td>\n",
       "      <td>9</td>\n",
       "      <td>6</td>\n",
       "    </tr>\n",
       "    <tr>\n",
       "      <th>1</th>\n",
       "      <td>12</td>\n",
       "      <td>36</td>\n",
       "      <td>45</td>\n",
       "      <td>36</td>\n",
       "      <td>21</td>\n",
       "    </tr>\n",
       "    <tr>\n",
       "      <th>2</th>\n",
       "      <td>6</td>\n",
       "      <td>9</td>\n",
       "      <td>9</td>\n",
       "      <td>3</td>\n",
       "      <td>3</td>\n",
       "    </tr>\n",
       "    <tr>\n",
       "      <th>3</th>\n",
       "      <td>3</td>\n",
       "      <td>9</td>\n",
       "      <td>9</td>\n",
       "      <td>6</td>\n",
       "      <td>3</td>\n",
       "    </tr>\n",
       "  </tbody>\n",
       "</table>\n",
       "</div>"
      ],
      "text/plain": [
       "   Middle School or Lower  Highschool  Bachelors  Masters  PhD or Higher\n",
       "0                      18          36         21        9              6\n",
       "1                      12          36         45       36             21\n",
       "2                       6           9          9        3              3\n",
       "3                       3           9          9        6              3"
      ]
     },
     "execution_count": 12,
     "metadata": {},
     "output_type": "execute_result"
    }
   ],
   "source": [
    "df.iloc[:,1:]"
   ]
  },
  {
   "cell_type": "code",
   "execution_count": 13,
   "id": "01054b7a",
   "metadata": {
    "ExecuteTime": {
     "end_time": "2022-11-26T06:52:58.450185Z",
     "start_time": "2022-11-26T06:52:58.429627Z"
    }
   },
   "outputs": [
    {
     "data": {
      "text/html": [
       "<div>\n",
       "<style scoped>\n",
       "    .dataframe tbody tr th:only-of-type {\n",
       "        vertical-align: middle;\n",
       "    }\n",
       "\n",
       "    .dataframe tbody tr th {\n",
       "        vertical-align: top;\n",
       "    }\n",
       "\n",
       "    .dataframe thead th {\n",
       "        text-align: right;\n",
       "    }\n",
       "</style>\n",
       "<table border=\"1\" class=\"dataframe\">\n",
       "  <thead>\n",
       "    <tr style=\"text-align: right;\">\n",
       "      <th></th>\n",
       "      <th>Middle School or Lower</th>\n",
       "      <th>Highschool</th>\n",
       "      <th>Bachelors</th>\n",
       "      <th>Masters</th>\n",
       "      <th>PhD or Higher</th>\n",
       "    </tr>\n",
       "    <tr>\n",
       "      <th>Marital Status</th>\n",
       "      <th></th>\n",
       "      <th></th>\n",
       "      <th></th>\n",
       "      <th></th>\n",
       "      <th></th>\n",
       "    </tr>\n",
       "  </thead>\n",
       "  <tbody>\n",
       "    <tr>\n",
       "      <th>Never Married</th>\n",
       "      <td>0.20</td>\n",
       "      <td>0.40</td>\n",
       "      <td>0.233333</td>\n",
       "      <td>0.10</td>\n",
       "      <td>0.066667</td>\n",
       "    </tr>\n",
       "    <tr>\n",
       "      <th>Married</th>\n",
       "      <td>0.08</td>\n",
       "      <td>0.24</td>\n",
       "      <td>0.300000</td>\n",
       "      <td>0.24</td>\n",
       "      <td>0.140000</td>\n",
       "    </tr>\n",
       "    <tr>\n",
       "      <th>Divorced</th>\n",
       "      <td>0.20</td>\n",
       "      <td>0.30</td>\n",
       "      <td>0.300000</td>\n",
       "      <td>0.10</td>\n",
       "      <td>0.100000</td>\n",
       "    </tr>\n",
       "    <tr>\n",
       "      <th>Widowed</th>\n",
       "      <td>0.10</td>\n",
       "      <td>0.30</td>\n",
       "      <td>0.300000</td>\n",
       "      <td>0.20</td>\n",
       "      <td>0.100000</td>\n",
       "    </tr>\n",
       "  </tbody>\n",
       "</table>\n",
       "</div>"
      ],
      "text/plain": [
       "                Middle School or Lower  Highschool  Bachelors  Masters  \\\n",
       "Marital Status                                                           \n",
       "Never Married                     0.20        0.40   0.233333     0.10   \n",
       "Married                           0.08        0.24   0.300000     0.24   \n",
       "Divorced                          0.20        0.30   0.300000     0.10   \n",
       "Widowed                           0.10        0.30   0.300000     0.20   \n",
       "\n",
       "                PhD or Higher  \n",
       "Marital Status                 \n",
       "Never Married        0.066667  \n",
       "Married              0.140000  \n",
       "Divorced             0.100000  \n",
       "Widowed              0.100000  "
      ]
     },
     "execution_count": 13,
     "metadata": {},
     "output_type": "execute_result"
    }
   ],
   "source": [
    "df = df.set_index('Marital Status')\n",
    "\n",
    "df100 = df.div(df.sum(axis=1), axis=0)\n",
    "\n",
    "#df100.reset_index()\n",
    "\n",
    "df100"
   ]
  },
  {
   "cell_type": "code",
   "execution_count": 14,
   "id": "a245b9c1",
   "metadata": {
    "ExecuteTime": {
     "end_time": "2022-11-26T06:53:01.970939Z",
     "start_time": "2022-11-26T06:53:01.940390Z"
    }
   },
   "outputs": [
    {
     "data": {
      "text/html": [
       "<div>\n",
       "<style scoped>\n",
       "    .dataframe tbody tr th:only-of-type {\n",
       "        vertical-align: middle;\n",
       "    }\n",
       "\n",
       "    .dataframe tbody tr th {\n",
       "        vertical-align: top;\n",
       "    }\n",
       "\n",
       "    .dataframe thead th {\n",
       "        text-align: right;\n",
       "    }\n",
       "</style>\n",
       "<table border=\"1\" class=\"dataframe\">\n",
       "  <thead>\n",
       "    <tr style=\"text-align: right;\">\n",
       "      <th></th>\n",
       "      <th>Marital Status</th>\n",
       "      <th>Middle School or Lower</th>\n",
       "      <th>Highschool</th>\n",
       "      <th>Bachelors</th>\n",
       "      <th>Masters</th>\n",
       "      <th>PhD or Higher</th>\n",
       "    </tr>\n",
       "  </thead>\n",
       "  <tbody>\n",
       "    <tr>\n",
       "      <th>0</th>\n",
       "      <td>Never Married</td>\n",
       "      <td>18</td>\n",
       "      <td>36</td>\n",
       "      <td>21</td>\n",
       "      <td>9</td>\n",
       "      <td>6</td>\n",
       "    </tr>\n",
       "    <tr>\n",
       "      <th>1</th>\n",
       "      <td>Married</td>\n",
       "      <td>12</td>\n",
       "      <td>36</td>\n",
       "      <td>45</td>\n",
       "      <td>36</td>\n",
       "      <td>21</td>\n",
       "    </tr>\n",
       "    <tr>\n",
       "      <th>2</th>\n",
       "      <td>Divorced</td>\n",
       "      <td>6</td>\n",
       "      <td>9</td>\n",
       "      <td>9</td>\n",
       "      <td>3</td>\n",
       "      <td>3</td>\n",
       "    </tr>\n",
       "    <tr>\n",
       "      <th>3</th>\n",
       "      <td>Widowed</td>\n",
       "      <td>3</td>\n",
       "      <td>9</td>\n",
       "      <td>9</td>\n",
       "      <td>6</td>\n",
       "      <td>3</td>\n",
       "    </tr>\n",
       "  </tbody>\n",
       "</table>\n",
       "</div>"
      ],
      "text/plain": [
       "  Marital Status  Middle School or Lower  Highschool  Bachelors  Masters  \\\n",
       "0  Never Married                      18          36         21        9   \n",
       "1        Married                      12          36         45       36   \n",
       "2       Divorced                       6           9          9        3   \n",
       "3        Widowed                       3           9          9        6   \n",
       "\n",
       "   PhD or Higher  \n",
       "0              6  \n",
       "1             21  \n",
       "2              3  \n",
       "3              3  "
      ]
     },
     "execution_count": 14,
     "metadata": {},
     "output_type": "execute_result"
    }
   ],
   "source": [
    "df.reset_index()"
   ]
  },
  {
   "cell_type": "code",
   "execution_count": 15,
   "id": "ad418a9d",
   "metadata": {
    "ExecuteTime": {
     "end_time": "2022-11-26T06:53:05.084807Z",
     "start_time": "2022-11-26T06:53:04.811250Z"
    }
   },
   "outputs": [
    {
     "data": {
      "text/plain": [
       "<AxesSubplot:title={'center':'Marital Status by Education'}, xlabel='Marital Status', ylabel='No. of Persons'>"
      ]
     },
     "execution_count": 15,
     "metadata": {},
     "output_type": "execute_result"
    },
    {
     "data": {
      "image/png": "[encoded data removed]",
      "text/plain": [
       "<Figure size 576x360 with 1 Axes>"
      ]
     },
     "metadata": {
      "needs_background": "light"
     },
     "output_type": "display_data"
    }
   ],
   "source": [
    "#Percentage stacked bar plot\n",
    "df100.plot(kind = 'bar',\n",
    "           stacked = True,\n",
    "           xlabel = 'Marital Status',\n",
    "           ylabel = 'No. of Persons',\n",
    "           title = 'Marital Status by Education',\n",
    "           figsize = (8,5))"
   ]
  },
  {
   "cell_type": "code",
   "execution_count": 16,
   "id": "6a2f3df8",
   "metadata": {
    "ExecuteTime": {
     "end_time": "2022-11-26T06:53:09.785667Z",
     "start_time": "2022-11-26T06:53:09.776781Z"
    }
   },
   "outputs": [
    {
     "data": {
      "text/plain": [
       "(23.56689976689977,\n",
       " 0.023281019557072378,\n",
       " 12,\n",
       " array([[11.7, 27. , 25.2, 16.2,  9.9],\n",
       "        [19.5, 45. , 42. , 27. , 16.5],\n",
       "        [ 3.9,  9. ,  8.4,  5.4,  3.3],\n",
       "        [ 3.9,  9. ,  8.4,  5.4,  3.3]]))"
      ]
     },
     "execution_count": 16,
     "metadata": {},
     "output_type": "execute_result"
    }
   ],
   "source": [
    "chi2_contingency(df)"
   ]
  },
  {
   "cell_type": "code",
   "execution_count": 17,
   "id": "ed382652",
   "metadata": {
    "ExecuteTime": {
     "end_time": "2022-11-26T06:53:11.810811Z",
     "start_time": "2022-11-26T06:53:11.787869Z"
    }
   },
   "outputs": [
    {
     "data": {
      "text/html": [
       "<div>\n",
       "<style scoped>\n",
       "    .dataframe tbody tr th:only-of-type {\n",
       "        vertical-align: middle;\n",
       "    }\n",
       "\n",
       "    .dataframe tbody tr th {\n",
       "        vertical-align: top;\n",
       "    }\n",
       "\n",
       "    .dataframe thead th {\n",
       "        text-align: right;\n",
       "    }\n",
       "</style>\n",
       "<table border=\"1\" class=\"dataframe\">\n",
       "  <thead>\n",
       "    <tr style=\"text-align: right;\">\n",
       "      <th></th>\n",
       "      <th>Marital Status</th>\n",
       "      <th>Middle School or lower</th>\n",
       "      <th>Highschool</th>\n",
       "      <th>Bachelors</th>\n",
       "      <th>Masters</th>\n",
       "      <th>PhD or Higher</th>\n",
       "    </tr>\n",
       "  </thead>\n",
       "  <tbody>\n",
       "    <tr>\n",
       "      <th>0</th>\n",
       "      <td>Never Married</td>\n",
       "      <td>12</td>\n",
       "      <td>27</td>\n",
       "      <td>25</td>\n",
       "      <td>16</td>\n",
       "      <td>10</td>\n",
       "    </tr>\n",
       "    <tr>\n",
       "      <th>1</th>\n",
       "      <td>Married</td>\n",
       "      <td>20</td>\n",
       "      <td>45</td>\n",
       "      <td>42</td>\n",
       "      <td>27</td>\n",
       "      <td>16</td>\n",
       "    </tr>\n",
       "    <tr>\n",
       "      <th>2</th>\n",
       "      <td>Divorced</td>\n",
       "      <td>4</td>\n",
       "      <td>9</td>\n",
       "      <td>8</td>\n",
       "      <td>5</td>\n",
       "      <td>4</td>\n",
       "    </tr>\n",
       "    <tr>\n",
       "      <th>3</th>\n",
       "      <td>Widowed</td>\n",
       "      <td>4</td>\n",
       "      <td>9</td>\n",
       "      <td>8</td>\n",
       "      <td>5</td>\n",
       "      <td>4</td>\n",
       "    </tr>\n",
       "  </tbody>\n",
       "</table>\n",
       "</div>"
      ],
      "text/plain": [
       "  Marital Status  Middle School or lower  Highschool  Bachelors  Masters  \\\n",
       "0  Never Married                      12          27         25       16   \n",
       "1        Married                      20          45         42       27   \n",
       "2       Divorced                       4           9          8        5   \n",
       "3        Widowed                       4           9          8        5   \n",
       "\n",
       "   PhD or Higher  \n",
       "0             10  \n",
       "1             16  \n",
       "2              4  \n",
       "3              4  "
      ]
     },
     "execution_count": 17,
     "metadata": {},
     "output_type": "execute_result"
    }
   ],
   "source": [
    "df = pd.DataFrame(data=[['Never Married',12,27,25,16,10],\n",
    "                        ['Married',20,45,42,27,16],\n",
    "                        ['Divorced',4,9,8,5,4],\n",
    "                        ['Widowed',4,9,8,5,4]],\n",
    "                  columns = ['Marital Status','Middle School or lower','Highschool','Bachelors','Masters','PhD or Higher'])\n",
    "\n",
    "df"
   ]
  },
  {
   "cell_type": "code",
   "execution_count": 18,
   "id": "29010a8e",
   "metadata": {
    "ExecuteTime": {
     "end_time": "2022-11-26T06:53:14.860734Z",
     "start_time": "2022-11-26T06:53:14.573054Z"
    }
   },
   "outputs": [
    {
     "data": {
      "text/plain": [
       "<AxesSubplot:title={'center':'Marital Status by Education'}, xlabel='Marital Status', ylabel='No. of Persons'>"
      ]
     },
     "execution_count": 18,
     "metadata": {},
     "output_type": "execute_result"
    },
    {
     "data": {
      "image/png": "[encoded data removed]",
      "text/plain": [
       "<Figure size 432x288 with 1 Axes>"
      ]
     },
     "metadata": {
      "needs_background": "light"
     },
     "output_type": "display_data"
    }
   ],
   "source": [
    "df.plot(kind = 'bar',\n",
    "        stacked = True,\n",
    "        x = 'Marital Status',\n",
    "        xlabel = 'Marital Status',\n",
    "        ylabel = 'No. of Persons',\n",
    "        title = 'Marital Status by Education')"
   ]
  },
  {
   "cell_type": "code",
   "execution_count": 19,
   "id": "ce831b57",
   "metadata": {
    "ExecuteTime": {
     "end_time": "2022-11-26T06:53:18.180455Z",
     "start_time": "2022-11-26T06:53:18.143926Z"
    }
   },
   "outputs": [
    {
     "name": "stderr",
     "output_type": "stream",
     "text": [
      "C:\\Users\\user\\AppData\\Local\\Temp\\ipykernel_9756\\1459321664.py:1: FutureWarning: Dropping of nuisance columns in DataFrame reductions (with 'numeric_only=None') is deprecated; in a future version this will raise TypeError.  Select only valid columns before calling the reduction.\n",
      "  df.sum(axis=1)\n"
     ]
    },
    {
     "data": {
      "text/plain": [
       "0     90\n",
       "1    150\n",
       "2     30\n",
       "3     30\n",
       "dtype: int64"
      ]
     },
     "execution_count": 19,
     "metadata": {},
     "output_type": "execute_result"
    }
   ],
   "source": [
    "df.sum(axis=1)"
   ]
  },
  {
   "cell_type": "code",
   "execution_count": 20,
   "id": "e014f297",
   "metadata": {
    "ExecuteTime": {
     "end_time": "2022-11-26T06:53:21.009700Z",
     "start_time": "2022-11-26T06:53:20.985766Z"
    }
   },
   "outputs": [
    {
     "data": {
      "text/html": [
       "<div>\n",
       "<style scoped>\n",
       "    .dataframe tbody tr th:only-of-type {\n",
       "        vertical-align: middle;\n",
       "    }\n",
       "\n",
       "    .dataframe tbody tr th {\n",
       "        vertical-align: top;\n",
       "    }\n",
       "\n",
       "    .dataframe thead th {\n",
       "        text-align: right;\n",
       "    }\n",
       "</style>\n",
       "<table border=\"1\" class=\"dataframe\">\n",
       "  <thead>\n",
       "    <tr style=\"text-align: right;\">\n",
       "      <th></th>\n",
       "      <th>Middle School or lower</th>\n",
       "      <th>Highschool</th>\n",
       "      <th>Bachelors</th>\n",
       "      <th>Masters</th>\n",
       "      <th>PhD or Higher</th>\n",
       "    </tr>\n",
       "  </thead>\n",
       "  <tbody>\n",
       "    <tr>\n",
       "      <th>0</th>\n",
       "      <td>12</td>\n",
       "      <td>27</td>\n",
       "      <td>25</td>\n",
       "      <td>16</td>\n",
       "      <td>10</td>\n",
       "    </tr>\n",
       "    <tr>\n",
       "      <th>1</th>\n",
       "      <td>20</td>\n",
       "      <td>45</td>\n",
       "      <td>42</td>\n",
       "      <td>27</td>\n",
       "      <td>16</td>\n",
       "    </tr>\n",
       "    <tr>\n",
       "      <th>2</th>\n",
       "      <td>4</td>\n",
       "      <td>9</td>\n",
       "      <td>8</td>\n",
       "      <td>5</td>\n",
       "      <td>4</td>\n",
       "    </tr>\n",
       "    <tr>\n",
       "      <th>3</th>\n",
       "      <td>4</td>\n",
       "      <td>9</td>\n",
       "      <td>8</td>\n",
       "      <td>5</td>\n",
       "      <td>4</td>\n",
       "    </tr>\n",
       "  </tbody>\n",
       "</table>\n",
       "</div>"
      ],
      "text/plain": [
       "   Middle School or lower  Highschool  Bachelors  Masters  PhD or Higher\n",
       "0                      12          27         25       16             10\n",
       "1                      20          45         42       27             16\n",
       "2                       4           9          8        5              4\n",
       "3                       4           9          8        5              4"
      ]
     },
     "execution_count": 20,
     "metadata": {},
     "output_type": "execute_result"
    }
   ],
   "source": [
    "df.iloc[:,1:]"
   ]
  },
  {
   "cell_type": "code",
   "execution_count": 21,
   "id": "b63db80f",
   "metadata": {
    "ExecuteTime": {
     "end_time": "2022-11-26T06:53:24.000983Z",
     "start_time": "2022-11-26T06:53:23.966086Z"
    }
   },
   "outputs": [
    {
     "data": {
      "text/html": [
       "<div>\n",
       "<style scoped>\n",
       "    .dataframe tbody tr th:only-of-type {\n",
       "        vertical-align: middle;\n",
       "    }\n",
       "\n",
       "    .dataframe tbody tr th {\n",
       "        vertical-align: top;\n",
       "    }\n",
       "\n",
       "    .dataframe thead th {\n",
       "        text-align: right;\n",
       "    }\n",
       "</style>\n",
       "<table border=\"1\" class=\"dataframe\">\n",
       "  <thead>\n",
       "    <tr style=\"text-align: right;\">\n",
       "      <th></th>\n",
       "      <th>Middle School or lower</th>\n",
       "      <th>Highschool</th>\n",
       "      <th>Bachelors</th>\n",
       "      <th>Masters</th>\n",
       "      <th>PhD or Higher</th>\n",
       "    </tr>\n",
       "    <tr>\n",
       "      <th>Marital Status</th>\n",
       "      <th></th>\n",
       "      <th></th>\n",
       "      <th></th>\n",
       "      <th></th>\n",
       "      <th></th>\n",
       "    </tr>\n",
       "  </thead>\n",
       "  <tbody>\n",
       "    <tr>\n",
       "      <th>Never Married</th>\n",
       "      <td>0.133333</td>\n",
       "      <td>0.3</td>\n",
       "      <td>0.277778</td>\n",
       "      <td>0.177778</td>\n",
       "      <td>0.111111</td>\n",
       "    </tr>\n",
       "    <tr>\n",
       "      <th>Married</th>\n",
       "      <td>0.133333</td>\n",
       "      <td>0.3</td>\n",
       "      <td>0.280000</td>\n",
       "      <td>0.180000</td>\n",
       "      <td>0.106667</td>\n",
       "    </tr>\n",
       "    <tr>\n",
       "      <th>Divorced</th>\n",
       "      <td>0.133333</td>\n",
       "      <td>0.3</td>\n",
       "      <td>0.266667</td>\n",
       "      <td>0.166667</td>\n",
       "      <td>0.133333</td>\n",
       "    </tr>\n",
       "    <tr>\n",
       "      <th>Widowed</th>\n",
       "      <td>0.133333</td>\n",
       "      <td>0.3</td>\n",
       "      <td>0.266667</td>\n",
       "      <td>0.166667</td>\n",
       "      <td>0.133333</td>\n",
       "    </tr>\n",
       "  </tbody>\n",
       "</table>\n",
       "</div>"
      ],
      "text/plain": [
       "                Middle School or lower  Highschool  Bachelors   Masters  \\\n",
       "Marital Status                                                            \n",
       "Never Married                 0.133333         0.3   0.277778  0.177778   \n",
       "Married                       0.133333         0.3   0.280000  0.180000   \n",
       "Divorced                      0.133333         0.3   0.266667  0.166667   \n",
       "Widowed                       0.133333         0.3   0.266667  0.166667   \n",
       "\n",
       "                PhD or Higher  \n",
       "Marital Status                 \n",
       "Never Married        0.111111  \n",
       "Married              0.106667  \n",
       "Divorced             0.133333  \n",
       "Widowed              0.133333  "
      ]
     },
     "execution_count": 21,
     "metadata": {},
     "output_type": "execute_result"
    }
   ],
   "source": [
    "df = df.set_index('Marital Status')\n",
    "\n",
    "df100 = df.div(df.sum(axis=1), axis=0)\n",
    "\n",
    "#df100.reset_index()\n",
    "\n",
    "df100"
   ]
  },
  {
   "cell_type": "code",
   "execution_count": 22,
   "id": "e2ecad6a",
   "metadata": {
    "ExecuteTime": {
     "end_time": "2022-11-26T06:53:26.930685Z",
     "start_time": "2022-11-26T06:53:26.909061Z"
    }
   },
   "outputs": [
    {
     "data": {
      "text/html": [
       "<div>\n",
       "<style scoped>\n",
       "    .dataframe tbody tr th:only-of-type {\n",
       "        vertical-align: middle;\n",
       "    }\n",
       "\n",
       "    .dataframe tbody tr th {\n",
       "        vertical-align: top;\n",
       "    }\n",
       "\n",
       "    .dataframe thead th {\n",
       "        text-align: right;\n",
       "    }\n",
       "</style>\n",
       "<table border=\"1\" class=\"dataframe\">\n",
       "  <thead>\n",
       "    <tr style=\"text-align: right;\">\n",
       "      <th></th>\n",
       "      <th>Marital Status</th>\n",
       "      <th>Middle School or lower</th>\n",
       "      <th>Highschool</th>\n",
       "      <th>Bachelors</th>\n",
       "      <th>Masters</th>\n",
       "      <th>PhD or Higher</th>\n",
       "    </tr>\n",
       "  </thead>\n",
       "  <tbody>\n",
       "    <tr>\n",
       "      <th>0</th>\n",
       "      <td>Never Married</td>\n",
       "      <td>12</td>\n",
       "      <td>27</td>\n",
       "      <td>25</td>\n",
       "      <td>16</td>\n",
       "      <td>10</td>\n",
       "    </tr>\n",
       "    <tr>\n",
       "      <th>1</th>\n",
       "      <td>Married</td>\n",
       "      <td>20</td>\n",
       "      <td>45</td>\n",
       "      <td>42</td>\n",
       "      <td>27</td>\n",
       "      <td>16</td>\n",
       "    </tr>\n",
       "    <tr>\n",
       "      <th>2</th>\n",
       "      <td>Divorced</td>\n",
       "      <td>4</td>\n",
       "      <td>9</td>\n",
       "      <td>8</td>\n",
       "      <td>5</td>\n",
       "      <td>4</td>\n",
       "    </tr>\n",
       "    <tr>\n",
       "      <th>3</th>\n",
       "      <td>Widowed</td>\n",
       "      <td>4</td>\n",
       "      <td>9</td>\n",
       "      <td>8</td>\n",
       "      <td>5</td>\n",
       "      <td>4</td>\n",
       "    </tr>\n",
       "  </tbody>\n",
       "</table>\n",
       "</div>"
      ],
      "text/plain": [
       "  Marital Status  Middle School or lower  Highschool  Bachelors  Masters  \\\n",
       "0  Never Married                      12          27         25       16   \n",
       "1        Married                      20          45         42       27   \n",
       "2       Divorced                       4           9          8        5   \n",
       "3        Widowed                       4           9          8        5   \n",
       "\n",
       "   PhD or Higher  \n",
       "0             10  \n",
       "1             16  \n",
       "2              4  \n",
       "3              4  "
      ]
     },
     "execution_count": 22,
     "metadata": {},
     "output_type": "execute_result"
    }
   ],
   "source": [
    "df.reset_index()"
   ]
  },
  {
   "cell_type": "code",
   "execution_count": 23,
   "id": "b4b53b43",
   "metadata": {
    "ExecuteTime": {
     "end_time": "2022-11-26T06:53:31.013925Z",
     "start_time": "2022-11-26T06:53:30.745100Z"
    }
   },
   "outputs": [
    {
     "data": {
      "text/plain": [
       "<AxesSubplot:title={'center':'Marital Status by Education'}, xlabel='Marital Status', ylabel='No. of Persons'>"
      ]
     },
     "execution_count": 23,
     "metadata": {},
     "output_type": "execute_result"
    },
    {
     "data": {
      "image/png": "[encoded data removed]",
      "text/plain": [
       "<Figure size 720x432 with 1 Axes>"
      ]
     },
     "metadata": {
      "needs_background": "light"
     },
     "output_type": "display_data"
    }
   ],
   "source": [
    "df100.plot(kind = 'bar',\n",
    "        stacked = True,\n",
    "        xlabel = 'Marital Status',\n",
    "        ylabel = 'No. of Persons',\n",
    "        title = 'Marital Status by Education',\n",
    "        figsize = (10,6))"
   ]
  },
  {
   "cell_type": "code",
   "execution_count": 24,
   "id": "53e98d9f",
   "metadata": {
    "ExecuteTime": {
     "end_time": "2022-11-26T06:53:34.388166Z",
     "start_time": "2022-11-26T06:53:34.367685Z"
    }
   },
   "outputs": [
    {
     "data": {
      "text/plain": [
       "(0.3466474109534699,\n",
       " 0.9999999675364585,\n",
       " 12,\n",
       " array([[12. , 27. , 24.9, 15.9, 10.2],\n",
       "        [20. , 45. , 41.5, 26.5, 17. ],\n",
       "        [ 4. ,  9. ,  8.3,  5.3,  3.4],\n",
       "        [ 4. ,  9. ,  8.3,  5.3,  3.4]]))"
      ]
     },
     "execution_count": 24,
     "metadata": {},
     "output_type": "execute_result"
    }
   ],
   "source": [
    "chi2_contingency(df)"
   ]
  },
  {
   "cell_type": "code",
   "execution_count": 25,
   "id": "c06011e5",
   "metadata": {
    "ExecuteTime": {
     "end_time": "2022-11-26T06:53:37.505825Z",
     "start_time": "2022-11-26T06:53:37.490846Z"
    }
   },
   "outputs": [
    {
     "data": {
      "text/html": [
       "<div>\n",
       "<style scoped>\n",
       "    .dataframe tbody tr th:only-of-type {\n",
       "        vertical-align: middle;\n",
       "    }\n",
       "\n",
       "    .dataframe tbody tr th {\n",
       "        vertical-align: top;\n",
       "    }\n",
       "\n",
       "    .dataframe thead th {\n",
       "        text-align: right;\n",
       "    }\n",
       "</style>\n",
       "<table border=\"1\" class=\"dataframe\">\n",
       "  <thead>\n",
       "    <tr style=\"text-align: right;\">\n",
       "      <th>Marital Status</th>\n",
       "      <th>Never Married</th>\n",
       "      <th>Married</th>\n",
       "      <th>Divorced</th>\n",
       "      <th>Widowed</th>\n",
       "    </tr>\n",
       "  </thead>\n",
       "  <tbody>\n",
       "    <tr>\n",
       "      <th>Middle School or lower</th>\n",
       "      <td>12</td>\n",
       "      <td>20</td>\n",
       "      <td>4</td>\n",
       "      <td>4</td>\n",
       "    </tr>\n",
       "    <tr>\n",
       "      <th>Highschool</th>\n",
       "      <td>27</td>\n",
       "      <td>45</td>\n",
       "      <td>9</td>\n",
       "      <td>9</td>\n",
       "    </tr>\n",
       "    <tr>\n",
       "      <th>Bachelors</th>\n",
       "      <td>25</td>\n",
       "      <td>42</td>\n",
       "      <td>8</td>\n",
       "      <td>8</td>\n",
       "    </tr>\n",
       "    <tr>\n",
       "      <th>Masters</th>\n",
       "      <td>16</td>\n",
       "      <td>27</td>\n",
       "      <td>5</td>\n",
       "      <td>5</td>\n",
       "    </tr>\n",
       "    <tr>\n",
       "      <th>PhD or Higher</th>\n",
       "      <td>10</td>\n",
       "      <td>16</td>\n",
       "      <td>4</td>\n",
       "      <td>4</td>\n",
       "    </tr>\n",
       "  </tbody>\n",
       "</table>\n",
       "</div>"
      ],
      "text/plain": [
       "Marital Status          Never Married  Married  Divorced  Widowed\n",
       "Middle School or lower             12       20         4        4\n",
       "Highschool                         27       45         9        9\n",
       "Bachelors                          25       42         8        8\n",
       "Masters                            16       27         5        5\n",
       "PhD or Higher                      10       16         4        4"
      ]
     },
     "execution_count": 25,
     "metadata": {},
     "output_type": "execute_result"
    }
   ],
   "source": [
    "df.transpose()"
   ]
  },
  {
   "cell_type": "code",
   "execution_count": null,
   "id": "c1739043",
   "metadata": {},
   "outputs": [],
   "source": []
  }
 ],
 "metadata": {
  "kernelspec": {
   "display_name": "Python 3 (ipykernel)",
   "language": "python",
   "name": "python3"
  },
  "language_info": {
   "codemirror_mode": {
    "name": "ipython",
    "version": 3
   },
   "file_extension": ".py",
   "mimetype": "text/x-python",
   "name": "python",
   "nbconvert_exporter": "python",
   "pygments_lexer": "ipython3",
   "version": "3.9.12"
  }
 },
 "nbformat": 4,
 "nbformat_minor": 5
}
