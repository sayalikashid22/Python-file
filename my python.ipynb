{
 "cells": [
  {
   "cell_type": "markdown",
   "id": "3c4688e6",
   "metadata": {},
   "source": [
    "# Python Fandamental\n"
   ]
  },
  {
   "cell_type": "markdown",
   "id": "46851517",
   "metadata": {},
   "source": [
    "## 1[a] Hello world\n"
   ]
  },
  {
   "cell_type": "code",
   "execution_count": 1,
   "id": "7aef444e",
   "metadata": {},
   "outputs": [
    {
     "name": "stdout",
     "output_type": "stream",
     "text": [
      "Welcome to python Session\n"
     ]
    }
   ],
   "source": [
    "print(\"Welcome to python Session\")"
   ]
  },
  {
   "cell_type": "code",
   "execution_count": 2,
   "id": "66313635",
   "metadata": {},
   "outputs": [
    {
     "name": "stdout",
     "output_type": "stream",
     "text": [
      "sonu says john's session is bad,Welcome\n"
     ]
    }
   ],
   "source": [
    "print(\"sonu says john's session is bad,Welcome\")"
   ]
  },
  {
   "cell_type": "code",
   "execution_count": 3,
   "id": "5ad8c9bb",
   "metadata": {},
   "outputs": [
    {
     "name": "stdout",
     "output_type": "stream",
     "text": [
      "sonu replied, \"john's session is bad\".Welcome\n"
     ]
    }
   ],
   "source": [
    "print(\"\"\"sonu replied, \"john's session is bad\".Welcome\"\"\")"
   ]
  },
  {
   "cell_type": "markdown",
   "id": "4fac2753",
   "metadata": {},
   "source": [
    "## 1[b]Create a variable\n"
   ]
  },
  {
   "cell_type": "code",
   "execution_count": 4,
   "id": "955d90dd",
   "metadata": {},
   "outputs": [],
   "source": [
    "Friends=[\"Aishu\",\"banno\",\"harsha\",\"hrutu\",\"sayali\"]\n",
    "#LHS-Variable\n",
    "#RHS-values\n",
    "#In Python,index number always start from 0.\n"
   ]
  },
  {
   "cell_type": "code",
   "execution_count": 5,
   "id": "7379f844",
   "metadata": {},
   "outputs": [
    {
     "data": {
      "text/plain": [
       "5"
      ]
     },
     "execution_count": 5,
     "metadata": {},
     "output_type": "execute_result"
    }
   ],
   "source": [
    "len(Friends)"
   ]
  },
  {
   "cell_type": "code",
   "execution_count": 6,
   "id": "f12ea079",
   "metadata": {},
   "outputs": [
    {
     "data": {
      "text/plain": [
       "'harsha'"
      ]
     },
     "execution_count": 6,
     "metadata": {},
     "output_type": "execute_result"
    }
   ],
   "source": [
    "Friends[2]"
   ]
  },
  {
   "cell_type": "code",
   "execution_count": 7,
   "id": "11ba540c",
   "metadata": {},
   "outputs": [
    {
     "data": {
      "text/plain": [
       "['Aishu', 'banno', 'harsha']"
      ]
     },
     "execution_count": 7,
     "metadata": {},
     "output_type": "execute_result"
    }
   ],
   "source": [
    "Friends[:3]"
   ]
  },
  {
   "cell_type": "code",
   "execution_count": 8,
   "id": "f64f6fb2",
   "metadata": {},
   "outputs": [
    {
     "data": {
      "text/plain": [
       "['harsha', 'hrutu', 'sayali']"
      ]
     },
     "execution_count": 8,
     "metadata": {},
     "output_type": "execute_result"
    }
   ],
   "source": [
    "Friends[2:]"
   ]
  },
  {
   "cell_type": "code",
   "execution_count": 9,
   "id": "2aa6e7db",
   "metadata": {},
   "outputs": [],
   "source": [
    "g='Department of Statistic'"
   ]
  },
  {
   "cell_type": "code",
   "execution_count": 10,
   "id": "3f42e5cf",
   "metadata": {},
   "outputs": [
    {
     "data": {
      "text/plain": [
       "'ent '"
      ]
     },
     "execution_count": 10,
     "metadata": {},
     "output_type": "execute_result"
    }
   ],
   "source": [
    "g[7:11]"
   ]
  },
  {
   "cell_type": "code",
   "execution_count": 11,
   "id": "5b610b80",
   "metadata": {},
   "outputs": [
    {
     "data": {
      "text/plain": [
       "'Department '"
      ]
     },
     "execution_count": 11,
     "metadata": {},
     "output_type": "execute_result"
    }
   ],
   "source": [
    "g[:11]"
   ]
  },
  {
   "cell_type": "code",
   "execution_count": 12,
   "id": "70e40532",
   "metadata": {},
   "outputs": [
    {
     "data": {
      "text/plain": [
       "'pm Sic'"
      ]
     },
     "execution_count": 12,
     "metadata": {},
     "output_type": "execute_result"
    }
   ],
   "source": [
    "g[2::4]"
   ]
  },
  {
   "cell_type": "code",
   "execution_count": 13,
   "id": "f6273587",
   "metadata": {},
   "outputs": [
    {
     "data": {
      "text/plain": [
       "'prmn '"
      ]
     },
     "execution_count": 13,
     "metadata": {},
     "output_type": "execute_result"
    }
   ],
   "source": [
    "g[2:11:2]"
   ]
  },
  {
   "cell_type": "code",
   "execution_count": 14,
   "id": "c50d45f3",
   "metadata": {},
   "outputs": [
    {
     "data": {
      "text/plain": [
       "'prmn fSaitc'"
      ]
     },
     "execution_count": 14,
     "metadata": {},
     "output_type": "execute_result"
    }
   ],
   "source": [
    "g[2::2]"
   ]
  },
  {
   "cell_type": "code",
   "execution_count": 15,
   "id": "bec12c53",
   "metadata": {},
   "outputs": [
    {
     "data": {
      "text/plain": [
       "'Damtftii'"
      ]
     },
     "execution_count": 15,
     "metadata": {},
     "output_type": "execute_result"
    }
   ],
   "source": [
    "g[::3]"
   ]
  },
  {
   "cell_type": "code",
   "execution_count": 16,
   "id": "14e2d145",
   "metadata": {},
   "outputs": [],
   "source": [
    "a=\"I am sayali kashid\""
   ]
  },
  {
   "cell_type": "code",
   "execution_count": 17,
   "id": "6c065a4b",
   "metadata": {},
   "outputs": [
    {
     "data": {
      "text/plain": [
       "'I am sayali kashid'"
      ]
     },
     "execution_count": 17,
     "metadata": {},
     "output_type": "execute_result"
    }
   ],
   "source": [
    "a.capitalize()"
   ]
  },
  {
   "cell_type": "code",
   "execution_count": 18,
   "id": "a67e6de6",
   "metadata": {},
   "outputs": [
    {
     "data": {
      "text/plain": [
       "'1.4.2'"
      ]
     },
     "execution_count": 18,
     "metadata": {},
     "output_type": "execute_result"
    }
   ],
   "source": [
    "import pandas\n",
    "pandas.__version__"
   ]
  },
  {
   "cell_type": "code",
   "execution_count": 19,
   "id": "abf3c2fb",
   "metadata": {},
   "outputs": [
    {
     "name": "stdout",
     "output_type": "stream",
     "text": [
      "3.9.12 (main, Apr  4 2022, 05:22:27) [MSC v.1916 64 bit (AMD64)]\n"
     ]
    }
   ],
   "source": [
    "import sys\n",
    "print(sys.version)\n"
   ]
  },
  {
   "cell_type": "code",
   "execution_count": 20,
   "id": "722a304c",
   "metadata": {},
   "outputs": [
    {
     "name": "stdout",
     "output_type": "stream",
     "text": [
      "my name is sayali kashid and I am of 24 years age\n"
     ]
    }
   ],
   "source": [
    "fname='sayali'\n",
    "lname='kashid'\n",
    "age='24'\n",
    "print(\"my name is\",fname,lname,\"and I am of\",age,\"years age\")"
   ]
  },
  {
   "cell_type": "code",
   "execution_count": 21,
   "id": "c10a069c",
   "metadata": {},
   "outputs": [],
   "source": [
    "a=\"my name is sayali kashid and I am of 24 years age\"\n"
   ]
  },
  {
   "cell_type": "code",
   "execution_count": 22,
   "id": "c1fe9e39",
   "metadata": {},
   "outputs": [
    {
     "data": {
      "text/plain": [
       "'My name is sayali kashid and i am of 24 years age'"
      ]
     },
     "execution_count": 22,
     "metadata": {},
     "output_type": "execute_result"
    }
   ],
   "source": [
    "a.capitalize()"
   ]
  },
  {
   "cell_type": "code",
   "execution_count": 23,
   "id": "b42a3917",
   "metadata": {},
   "outputs": [
    {
     "data": {
      "text/plain": [
       "'MY NAME IS SAYALI KASHID AND I AM OF 24 YEARS AGE'"
      ]
     },
     "execution_count": 23,
     "metadata": {},
     "output_type": "execute_result"
    }
   ],
   "source": [
    "a.upper()"
   ]
  },
  {
   "cell_type": "code",
   "execution_count": 24,
   "id": "477ab890",
   "metadata": {},
   "outputs": [
    {
     "data": {
      "text/plain": [
       "'my name is sayali kashid and i am of 24 years age'"
      ]
     },
     "execution_count": 24,
     "metadata": {},
     "output_type": "execute_result"
    }
   ],
   "source": [
    "a.lower()"
   ]
  },
  {
   "cell_type": "code",
   "execution_count": 25,
   "id": "0976089e",
   "metadata": {},
   "outputs": [
    {
     "data": {
      "text/plain": [
       "'My Name Is Sayali Kashid And I Am Of 24 Years Age'"
      ]
     },
     "execution_count": 25,
     "metadata": {},
     "output_type": "execute_result"
    }
   ],
   "source": [
    "a.title()"
   ]
  },
  {
   "cell_type": "code",
   "execution_count": 26,
   "id": "0208ca03",
   "metadata": {},
   "outputs": [
    {
     "data": {
      "text/plain": [
       "'my name is sayali kashid and i am of 24 years age'"
      ]
     },
     "execution_count": 26,
     "metadata": {},
     "output_type": "execute_result"
    }
   ],
   "source": [
    "a.casefold()"
   ]
  },
  {
   "cell_type": "code",
   "execution_count": 27,
   "id": "d34ad047",
   "metadata": {},
   "outputs": [
    {
     "data": {
      "text/plain": [
       "['my',\n",
       " 'name',\n",
       " 'is',\n",
       " 'sayali',\n",
       " 'kashid',\n",
       " 'and',\n",
       " 'I',\n",
       " 'am',\n",
       " 'of',\n",
       " '24',\n",
       " 'years',\n",
       " 'age']"
      ]
     },
     "execution_count": 27,
     "metadata": {},
     "output_type": "execute_result"
    }
   ],
   "source": [
    "#separate the text\n",
    "a.split()\n"
   ]
  },
  {
   "cell_type": "code",
   "execution_count": 28,
   "id": "57b2fb3c",
   "metadata": {},
   "outputs": [
    {
     "data": {
      "text/plain": [
       "list"
      ]
     },
     "execution_count": 28,
     "metadata": {},
     "output_type": "execute_result"
    }
   ],
   "source": [
    "type(a.split())"
   ]
  },
  {
   "cell_type": "code",
   "execution_count": 29,
   "id": "e8e53e85",
   "metadata": {},
   "outputs": [
    {
     "data": {
      "text/plain": [
       "'m y   n a m e   i s   s a y a l i   k a s h i d   a n d   I   a m   o f   2 4   y e a r s   a g e'"
      ]
     },
     "execution_count": 29,
     "metadata": {},
     "output_type": "execute_result"
    }
   ],
   "source": [
    "#add space in between each other\n",
    "\" \".join(a)"
   ]
  },
  {
   "cell_type": "markdown",
   "id": "9ec8b091",
   "metadata": {},
   "source": [
    "# Lists\n",
    "##use square brackets[]\n",
    "#mutable"
   ]
  },
  {
   "cell_type": "code",
   "execution_count": 30,
   "id": "916e9dc1",
   "metadata": {},
   "outputs": [
    {
     "name": "stdout",
     "output_type": "stream",
     "text": [
      "[25, 'sayali', 'G', 50]\n",
      "[67, 89, 'statistics']\n"
     ]
    }
   ],
   "source": [
    "x1=[25,\"sayali\",\"G\",50]\n",
    "x2=[67,89,\"statistics\"]\n",
    "print(x1)\n",
    "print(x2)"
   ]
  },
  {
   "cell_type": "code",
   "execution_count": 31,
   "id": "42211c46",
   "metadata": {},
   "outputs": [
    {
     "data": {
      "text/plain": [
       "list"
      ]
     },
     "execution_count": 31,
     "metadata": {},
     "output_type": "execute_result"
    }
   ],
   "source": [
    "type(x1)\n"
   ]
  },
  {
   "cell_type": "code",
   "execution_count": 32,
   "id": "94bad3d4",
   "metadata": {},
   "outputs": [
    {
     "data": {
      "text/plain": [
       "[25, 'sayali', 'G', 50, 67, 89, 'statistics']"
      ]
     },
     "execution_count": 32,
     "metadata": {},
     "output_type": "execute_result"
    }
   ],
   "source": [
    "x1+x2"
   ]
  },
  {
   "cell_type": "code",
   "execution_count": 33,
   "id": "5dcc24c9",
   "metadata": {},
   "outputs": [
    {
     "data": {
      "text/plain": [
       "[25, 'sayali', 'G', 50, 25, 'sayali', 'G', 50, 25, 'sayali', 'G', 50]"
      ]
     },
     "execution_count": 33,
     "metadata": {},
     "output_type": "execute_result"
    }
   ],
   "source": [
    "x1*3"
   ]
  },
  {
   "cell_type": "code",
   "execution_count": 34,
   "id": "3e425513",
   "metadata": {},
   "outputs": [
    {
     "data": {
      "text/plain": [
       "50"
      ]
     },
     "execution_count": 34,
     "metadata": {},
     "output_type": "execute_result"
    }
   ],
   "source": [
    "x1[-1]"
   ]
  },
  {
   "cell_type": "code",
   "execution_count": 35,
   "id": "5cc94dad",
   "metadata": {},
   "outputs": [
    {
     "data": {
      "text/plain": [
       "[25, 'G']"
      ]
     },
     "execution_count": 35,
     "metadata": {},
     "output_type": "execute_result"
    }
   ],
   "source": [
    "x1[::2]"
   ]
  },
  {
   "cell_type": "code",
   "execution_count": 36,
   "id": "3e33f907",
   "metadata": {},
   "outputs": [
    {
     "data": {
      "text/plain": [
       "[25, 'sayali', 'G', 50, 'kashid']"
      ]
     },
     "execution_count": 36,
     "metadata": {},
     "output_type": "execute_result"
    }
   ],
   "source": [
    "x1.append(\"kashid\")\n",
    "x1"
   ]
  },
  {
   "cell_type": "code",
   "execution_count": 37,
   "id": "61e7fae8",
   "metadata": {},
   "outputs": [
    {
     "data": {
      "text/plain": [
       "[25, 'sayali', 'G', 50, 'kashid']"
      ]
     },
     "execution_count": 37,
     "metadata": {},
     "output_type": "execute_result"
    }
   ],
   "source": [
    "s=x1.copy()\n",
    "s"
   ]
  },
  {
   "cell_type": "code",
   "execution_count": 38,
   "id": "06033de8",
   "metadata": {},
   "outputs": [
    {
     "data": {
      "text/plain": [
       "1"
      ]
     },
     "execution_count": 38,
     "metadata": {},
     "output_type": "execute_result"
    }
   ],
   "source": [
    "x1.count('sayali')"
   ]
  },
  {
   "cell_type": "code",
   "execution_count": 39,
   "id": "2ba0138c",
   "metadata": {},
   "outputs": [
    {
     "name": "stdout",
     "output_type": "stream",
     "text": [
      "[25, 'sayali', 'G', 50, 'kashid', 'student']\n"
     ]
    }
   ],
   "source": [
    "# insert fun\n",
    "x1.insert(5,\"student\")\n",
    "print(x1)\n"
   ]
  },
  {
   "cell_type": "code",
   "execution_count": 40,
   "id": "148b11a9",
   "metadata": {},
   "outputs": [
    {
     "data": {
      "text/plain": [
       "[25, 'sayali', 50, 'kashid', 'student']"
      ]
     },
     "execution_count": 40,
     "metadata": {},
     "output_type": "execute_result"
    }
   ],
   "source": [
    "#remove element position\n",
    "x1.pop(2)\n",
    "x1"
   ]
  },
  {
   "cell_type": "code",
   "execution_count": 41,
   "id": "4cfa9403",
   "metadata": {},
   "outputs": [
    {
     "data": {
      "text/plain": [
       "[25, 'sayali', 50, 'kashid']"
      ]
     },
     "execution_count": 41,
     "metadata": {},
     "output_type": "execute_result"
    }
   ],
   "source": [
    "x1.pop()\n",
    "x1"
   ]
  },
  {
   "cell_type": "code",
   "execution_count": 42,
   "id": "ac5de5bb",
   "metadata": {},
   "outputs": [
    {
     "data": {
      "text/plain": [
       "['sayali', 50, 'kashid']"
      ]
     },
     "execution_count": 42,
     "metadata": {},
     "output_type": "execute_result"
    }
   ],
   "source": [
    "#remove elelment\n",
    "x1.remove(25)\n",
    "x1"
   ]
  },
  {
   "cell_type": "code",
   "execution_count": 43,
   "id": "ac06fce7",
   "metadata": {},
   "outputs": [
    {
     "data": {
      "text/plain": [
       "['kashid', 50, 'sayali']"
      ]
     },
     "execution_count": 43,
     "metadata": {},
     "output_type": "execute_result"
    }
   ],
   "source": [
    "x1.reverse()\n",
    "x1"
   ]
  },
  {
   "cell_type": "code",
   "execution_count": 44,
   "id": "a8e8579d",
   "metadata": {},
   "outputs": [
    {
     "data": {
      "text/plain": [
       "[10, 20, 45, 78]"
      ]
     },
     "execution_count": 44,
     "metadata": {},
     "output_type": "execute_result"
    }
   ],
   "source": [
    "v1=[20,10,78,45]\n",
    "v1.sort()\n",
    "\n",
    "v1"
   ]
  },
  {
   "cell_type": "code",
   "execution_count": 45,
   "id": "ad32d6be",
   "metadata": {},
   "outputs": [
    {
     "data": {
      "text/plain": [
       "[]"
      ]
     },
     "execution_count": 45,
     "metadata": {},
     "output_type": "execute_result"
    }
   ],
   "source": [
    "v1.clear()\n",
    "v1"
   ]
  },
  {
   "cell_type": "markdown",
   "id": "be40b218",
   "metadata": {},
   "source": [
    "# Tuples\n",
    "###closed bracket,immutable"
   ]
  },
  {
   "cell_type": "code",
   "execution_count": 46,
   "id": "8225d585",
   "metadata": {},
   "outputs": [
    {
     "data": {
      "text/plain": [
       "(25, 'JK', 'V', 22.8)"
      ]
     },
     "execution_count": 46,
     "metadata": {},
     "output_type": "execute_result"
    }
   ],
   "source": [
    "b1=(25,'JK','V',22.8)\n",
    "b1"
   ]
  },
  {
   "cell_type": "code",
   "execution_count": 47,
   "id": "6b8f51e5",
   "metadata": {},
   "outputs": [
    {
     "data": {
      "text/plain": [
       "1"
      ]
     },
     "execution_count": 47,
     "metadata": {},
     "output_type": "execute_result"
    }
   ],
   "source": [
    "b1.count(\"JK\")"
   ]
  },
  {
   "cell_type": "code",
   "execution_count": 48,
   "id": "c7ad7ea0",
   "metadata": {},
   "outputs": [
    {
     "name": "stdout",
     "output_type": "stream",
     "text": [
      "{'v': 30, 'jk': 1, 'jin': 12, 'jimin': 13}\n"
     ]
    },
    {
     "data": {
      "text/plain": [
       "dict"
      ]
     },
     "execution_count": 48,
     "metadata": {},
     "output_type": "execute_result"
    }
   ],
   "source": [
    "d={\"v\":30,\"jk\":1,\"jin\":12,\"jimin\":13}\n",
    "print(d)\n",
    "type(d)"
   ]
  },
  {
   "cell_type": "code",
   "execution_count": 49,
   "id": "0b220feb",
   "metadata": {},
   "outputs": [
    {
     "data": {
      "text/plain": [
       "30"
      ]
     },
     "execution_count": 49,
     "metadata": {},
     "output_type": "execute_result"
    }
   ],
   "source": [
    "d['v']"
   ]
  },
  {
   "cell_type": "code",
   "execution_count": 50,
   "id": "a4822380",
   "metadata": {},
   "outputs": [
    {
     "name": "stdout",
     "output_type": "stream",
     "text": [
      "{'v': 30, 'jin': 12, 'jimin': 13}\n"
     ]
    }
   ],
   "source": [
    "d={\"v\":30,\"jk\":1,\"jin\":12,\"jimin\":13}\n",
    "del d[\"jk\"]\n",
    "print(d)"
   ]
  },
  {
   "cell_type": "code",
   "execution_count": 51,
   "id": "455155e6",
   "metadata": {},
   "outputs": [
    {
     "data": {
      "text/plain": [
       "3"
      ]
     },
     "execution_count": 51,
     "metadata": {},
     "output_type": "execute_result"
    }
   ],
   "source": [
    "len(d)"
   ]
  },
  {
   "cell_type": "code",
   "execution_count": 52,
   "id": "82ea69e3",
   "metadata": {},
   "outputs": [
    {
     "data": {
      "text/plain": [
       "{'RM', 'jhope', 'jimin', 'jin', 'jk', 'suga', 'v'}"
      ]
     },
     "execution_count": 52,
     "metadata": {},
     "output_type": "execute_result"
    }
   ],
   "source": [
    "x={\"v\",\"jk\",\"jin\",\"RM\",\"suga\",\"jimin\",\"jhope\"}\n",
    "x"
   ]
  },
  {
   "cell_type": "code",
   "execution_count": 53,
   "id": "14191ccd",
   "metadata": {},
   "outputs": [
    {
     "data": {
      "text/plain": [
       "set"
      ]
     },
     "execution_count": 53,
     "metadata": {},
     "output_type": "execute_result"
    }
   ],
   "source": [
    "type(x)"
   ]
  },
  {
   "cell_type": "code",
   "execution_count": 54,
   "id": "f9fa2610",
   "metadata": {},
   "outputs": [
    {
     "data": {
      "text/plain": [
       "{'BTS', 'RM', 'jhope', 'jimin', 'jin', 'jk', 'suga', 'v'}"
      ]
     },
     "execution_count": 54,
     "metadata": {},
     "output_type": "execute_result"
    }
   ],
   "source": [
    "x.add(\"BTS\")\n",
    "x"
   ]
  },
  {
   "cell_type": "code",
   "execution_count": 55,
   "id": "b9bfcc15",
   "metadata": {},
   "outputs": [
    {
     "name": "stdout",
     "output_type": "stream",
     "text": [
      "0\n",
      "0\n",
      "1\n",
      "1\n",
      "2\n",
      "4\n",
      "3\n",
      "9\n",
      "4\n",
      "16\n",
      "5\n",
      "25\n",
      "end of the loop\n"
     ]
    }
   ],
   "source": [
    "for i in range(6) :\n",
    "    print(i)\n",
    "    print(i**2)\n",
    "print(\"end of the loop\")"
   ]
  },
  {
   "cell_type": "code",
   "execution_count": 56,
   "id": "60bc34b0",
   "metadata": {},
   "outputs": [
    {
     "name": "stdout",
     "output_type": "stream",
     "text": [
      "0\n",
      "0\n",
      "1\n",
      "2\n",
      "2\n",
      "4\n",
      "3\n",
      "6\n",
      "4\n",
      "8\n",
      "5\n",
      "10\n",
      "end of the loop\n"
     ]
    }
   ],
   "source": [
    "for i in range(6) :\n",
    "    print(i)\n",
    "    print(i*2)\n",
    "print(\"end of the loop\")"
   ]
  },
  {
   "cell_type": "code",
   "execution_count": 57,
   "id": "ec4caf17",
   "metadata": {},
   "outputs": [
    {
     "name": "stdout",
     "output_type": "stream",
     "text": [
      "range(-5, 6)\n",
      "-5\n",
      "-4\n",
      "-3\n",
      "-2\n",
      "-1\n",
      "0\n",
      "1\n",
      "2\n",
      "3\n",
      "4\n",
      "5\n"
     ]
    }
   ],
   "source": [
    "x = range(-5,6)\n",
    "print(x)\n",
    "for n in x :\n",
    "    print(n)"
   ]
  },
  {
   "cell_type": "code",
   "execution_count": 58,
   "id": "ca981fb1",
   "metadata": {},
   "outputs": [
    {
     "name": "stdout",
     "output_type": "stream",
     "text": [
      "range(0, 6, 2)\n",
      "0\n",
      "2\n",
      "4\n"
     ]
    }
   ],
   "source": [
    "x = range(0,6,2)\n",
    "print(x)\n",
    "for n in x :\n",
    "    print(n)"
   ]
  },
  {
   "cell_type": "code",
   "execution_count": 59,
   "id": "897a18d8",
   "metadata": {},
   "outputs": [
    {
     "name": "stderr",
     "output_type": "stream",
     "text": [
      "\n",
      "KeyboardInterrupt\n",
      "\n"
     ]
    }
   ],
   "source": [
    "x=input(\"enter a number\")"
   ]
  },
  {
   "cell_type": "code",
   "execution_count": 60,
   "id": "bcebba61",
   "metadata": {},
   "outputs": [
    {
     "name": "stdout",
     "output_type": "stream",
     "text": [
      "negative number\n"
     ]
    }
   ],
   "source": [
    "num = -3\n",
    "\n",
    "if num >= 0:\n",
    "    print(\"positive or zero\")\n",
    "else:\n",
    "    print(\"negative number\")"
   ]
  },
  {
   "cell_type": "code",
   "execution_count": 61,
   "id": "2003dd93",
   "metadata": {},
   "outputs": [
    {
     "name": "stdout",
     "output_type": "stream",
     "text": [
      "10 is a even number\n"
     ]
    }
   ],
   "source": [
    "x=10\n",
    "\n",
    "if x%2==0:\n",
    "    print(x,\"is a even number\")\n",
    "else:\n",
    "    print(x,\"is a odd number\")"
   ]
  },
  {
   "cell_type": "code",
   "execution_count": 62,
   "id": "f550c102",
   "metadata": {},
   "outputs": [
    {
     "name": "stdout",
     "output_type": "stream",
     "text": [
      "high\n"
     ]
    }
   ],
   "source": [
    "int=45\n",
    "\n",
    "if int >= 50:\n",
    "    print(\"low\")\n",
    "else:\n",
    "    print(\"high\")"
   ]
  },
  {
   "cell_type": "code",
   "execution_count": 63,
   "id": "208b3d0d",
   "metadata": {},
   "outputs": [
    {
     "name": "stdout",
     "output_type": "stream",
     "text": [
      "negative\n"
     ]
    }
   ],
   "source": [
    " num=-5\n",
    "    \n",
    "if num > 0:\n",
    "    print(\"positive\")\n",
    "elif num==0:\n",
    "    print(\"zero\")\n",
    "else:\n",
    "    print(\"negative\")"
   ]
  },
  {
   "cell_type": "code",
   "execution_count": 64,
   "id": "42920041",
   "metadata": {},
   "outputs": [
    {
     "name": "stdout",
     "output_type": "stream",
     "text": [
      "enter a num:25\n"
     ]
    }
   ],
   "source": [
    "a=float(input(\"enter a num:\"))"
   ]
  },
  {
   "cell_type": "markdown",
   "id": "05fe8415",
   "metadata": {},
   "source": [
    "# Loop"
   ]
  },
  {
   "cell_type": "code",
   "execution_count": 65,
   "id": "3b8b1570",
   "metadata": {},
   "outputs": [
    {
     "name": "stdout",
     "output_type": "stream",
     "text": [
      "10\n",
      "12\n",
      "14\n",
      "16\n",
      "18\n",
      "20\n",
      "22\n",
      "24\n",
      "26\n",
      "28\n",
      "[10, 12, 14, 16, 18, 20, 22, 24, 26, 28]\n"
     ]
    }
   ],
   "source": [
    "Numbers1=[10,12,14,16,18,20,22,24,26,28]\n",
    "output=[]\n",
    "for i in Numbers1:\n",
    "    if i%2==0:\n",
    "        print(i)\n",
    "        output.append(i)\n",
    "print(output)"
   ]
  },
  {
   "cell_type": "code",
   "execution_count": 66,
   "id": "fadddadd",
   "metadata": {},
   "outputs": [
    {
     "name": "stdout",
     "output_type": "stream",
     "text": [
      "20\n"
     ]
    },
    {
     "ename": "IndexError",
     "evalue": "list assignment index out of range",
     "output_type": "error",
     "traceback": [
      "\u001b[1;31m---------------------------------------------------------------------------\u001b[0m",
      "\u001b[1;31mIndexError\u001b[0m                                Traceback (most recent call last)",
      "Input \u001b[1;32mIn [66]\u001b[0m, in \u001b[0;36m<cell line: 5>\u001b[1;34m()\u001b[0m\n\u001b[0;32m      6\u001b[0m     \u001b[38;5;28;01mif\u001b[39;00m i\u001b[38;5;241m%\u001b[39m\u001b[38;5;241m2\u001b[39m\u001b[38;5;241m==\u001b[39m\u001b[38;5;241m0\u001b[39m:\n\u001b[0;32m      7\u001b[0m         \u001b[38;5;28mprint\u001b[39m(i)\n\u001b[1;32m----> 8\u001b[0m         evnum[t]\u001b[38;5;241m=\u001b[39mi\n\u001b[0;32m      9\u001b[0m         t\u001b[38;5;241m=\u001b[39mt\u001b[38;5;241m+\u001b[39m\u001b[38;5;241m1\u001b[39m\n\u001b[0;32m     10\u001b[0m \u001b[38;5;28mprint\u001b[39m(output)\n",
      "\u001b[1;31mIndexError\u001b[0m: list assignment index out of range"
     ]
    }
   ],
   "source": [
    "Numbers1=[15,20,36,35,38,59,75,82]\n",
    "evnum=[]\n",
    "t=0\n",
    "\n",
    "for i in Numbers1:\n",
    "    if i%2==0:\n",
    "        print(i)\n",
    "        evnum[t]=i\n",
    "        t=t+1\n",
    "print(output)"
   ]
  },
  {
   "cell_type": "code",
   "execution_count": 67,
   "id": "23603524",
   "metadata": {},
   "outputs": [
    {
     "name": "stdout",
     "output_type": "stream",
     "text": [
      "-5 25\n",
      "-4 16\n",
      "-3 9\n",
      "-2 4\n",
      "-1 1\n",
      "0 0\n",
      "1 1\n",
      "2 4\n",
      "3 9\n",
      "4 16\n"
     ]
    }
   ],
   "source": [
    "for i in range(-5,5):\n",
    "    print(i,i*i)"
   ]
  },
  {
   "cell_type": "code",
   "execution_count": 68,
   "id": "eb087b14",
   "metadata": {},
   "outputs": [
    {
     "name": "stdout",
     "output_type": "stream",
     "text": [
      "s\n",
      "y\n",
      "l\n",
      "i\n"
     ]
    }
   ],
   "source": [
    "for name in \"sayali\":\n",
    "    if name ==\"a\":\n",
    "        continue\n",
    "    print(name)"
   ]
  },
  {
   "cell_type": "code",
   "execution_count": null,
   "id": "1ff1d76a",
   "metadata": {},
   "outputs": [],
   "source": [
    "h=\"MAHI\"\n",
    "\n",
    "for i in h:\n",
    "    print(i)"
   ]
  },
  {
   "cell_type": "code",
   "execution_count": 69,
   "id": "ad4cbd18",
   "metadata": {},
   "outputs": [
    {
     "name": "stdout",
     "output_type": "stream",
     "text": [
      "['v', 'jk', 'jimin']\n",
      "['v', 'jk', 'jimin']\n",
      "['v', 'jk', 'jimin']\n"
     ]
    }
   ],
   "source": [
    "list = [\"v\",\"jk\",\"jimin\"]\n",
    "\n",
    "for i in list:\n",
    "    print(list)"
   ]
  },
  {
   "cell_type": "code",
   "execution_count": 70,
   "id": "34601fec",
   "metadata": {},
   "outputs": [
    {
     "name": "stdout",
     "output_type": "stream",
     "text": [
      "v\n",
      "jk\n",
      "jimin\n"
     ]
    }
   ],
   "source": [
    "list = [\"v\",\"jk\",\"jimin\"]\n",
    " \n",
    "for i in range(len(list)):\n",
    "    print(list[i])"
   ]
  },
  {
   "cell_type": "code",
   "execution_count": 71,
   "id": "31796c77",
   "metadata": {},
   "outputs": [
    {
     "name": "stdout",
     "output_type": "stream",
     "text": [
      "['apple', 'banana', 'mango']\n"
     ]
    }
   ],
   "source": [
    "fruits = [\"apple\",\"banana\",\"chery\",\"mango\",\"kiwi\"]\n",
    "newlist=[]\n",
    "\n",
    "for x in fruits:\n",
    "    if \"a\" in x:\n",
    "        newlist.append(x)\n",
    "print(newlist)"
   ]
  },
  {
   "cell_type": "code",
   "execution_count": 72,
   "id": "2151e7dc",
   "metadata": {},
   "outputs": [
    {
     "name": "stdout",
     "output_type": "stream",
     "text": [
      "['apple', 'orange', 'chery', 'mango', 'kiwi']\n"
     ]
    }
   ],
   "source": [
    "fruits = [\"apple\",\"banana\",\"chery\",\"mango\",\"kiwi\"]\n",
    "newlist=[x for x in fruits if \"a\" in x]\n",
    "newlist=[(x*2)for x in fruits if \"a\" in x]\n",
    "newlist = [x.upper() for x in fruits]\n",
    "newlist = [x if x != \"banana\" else \"orange\" for x in fruits]\n",
    "print(newlist)"
   ]
  },
  {
   "cell_type": "code",
   "execution_count": 73,
   "id": "6ccce83a",
   "metadata": {},
   "outputs": [
    {
     "data": {
      "text/plain": [
       "[0, 1, 2, 3, 4]"
      ]
     },
     "execution_count": 73,
     "metadata": {},
     "output_type": "execute_result"
    }
   ],
   "source": [
    "# newlist = [x for x in range(10)]\n",
    "newlist = [x for x in range(10) if x <5]\n",
    "newlist"
   ]
  },
  {
   "cell_type": "markdown",
   "id": "e5a8d4fd",
   "metadata": {},
   "source": [
    "# python function"
   ]
  },
  {
   "cell_type": "code",
   "execution_count": null,
   "id": "9da126e8",
   "metadata": {},
   "outputs": [],
   "source": [
    "def fact(n):\n",
    "    f=1\n",
    "    for i in range (1,n+1):\n",
    "        f*=1\n",
    "    return(f)\n"
   ]
  },
  {
   "cell_type": "code",
   "execution_count": null,
   "id": "8debfcc6",
   "metadata": {},
   "outputs": [],
   "source": [
    "fact(5)"
   ]
  },
  {
   "cell_type": "code",
   "execution_count": null,
   "id": "ca7d1e49",
   "metadata": {},
   "outputs": [],
   "source": [
    "def my_max(a,b):\n",
    "    if a<=b:\n",
    "        return(b)\n",
    "    else:\n",
    "        retutn(a)"
   ]
  },
  {
   "cell_type": "code",
   "execution_count": null,
   "id": "e976cbc8",
   "metadata": {},
   "outputs": [],
   "source": [
    "my_max(2,2)"
   ]
  },
  {
   "cell_type": "code",
   "execution_count": null,
   "id": "f5146ed7",
   "metadata": {},
   "outputs": [],
   "source": [
    "#fun greets all the person in the name tuple\n",
    "def greet (*names):\n",
    "    for name in names:\n",
    "        print(\"hello\",name)\n",
    "greet(\"sayali\",\"pooja\",\"sonu\",\"rosha\",\"madhuri\")\n"
   ]
  },
  {
   "cell_type": "code",
   "execution_count": null,
   "id": "d9506ce0",
   "metadata": {},
   "outputs": [],
   "source": [
    "def factorial(x):\n",
    "    if x ==1:\n",
    "        return 1\n",
    "    else:\n",
    "        return(x * factorial(x-1))"
   ]
  },
  {
   "cell_type": "code",
   "execution_count": null,
   "id": "62b45206",
   "metadata": {},
   "outputs": [],
   "source": [
    "factorial(3)"
   ]
  },
  {
   "cell_type": "code",
   "execution_count": null,
   "id": "fe6077aa",
   "metadata": {},
   "outputs": [],
   "source": [
    "num=10\n",
    "print(\"The factorial of\",num, \"is\",factorial(num))"
   ]
  },
  {
   "cell_type": "code",
   "execution_count": null,
   "id": "ffc426e9",
   "metadata": {},
   "outputs": [],
   "source": [
    "double = lambda x: x * 2\n",
    "print(double(5))"
   ]
  },
  {
   "cell_type": "code",
   "execution_count": null,
   "id": "c8f9d01b",
   "metadata": {},
   "outputs": [],
   "source": [
    "multi = lambda x,y:x * y\n",
    "print(multi(3,2))"
   ]
  },
  {
   "cell_type": "markdown",
   "id": "ebc50267",
   "metadata": {},
   "source": [
    "## 2[d] interact with user-input"
   ]
  },
  {
   "cell_type": "code",
   "execution_count": null,
   "id": "f49a62f3",
   "metadata": {},
   "outputs": [],
   "source": [
    "user_input = input(\"name\")\n",
    "print('first letter start with',user_input[0])"
   ]
  },
  {
   "cell_type": "markdown",
   "id": "186ed69c",
   "metadata": {},
   "source": [
    "# numbers in python\n"
   ]
  },
  {
   "cell_type": "code",
   "execution_count": null,
   "id": "87a5c9d9",
   "metadata": {},
   "outputs": [],
   "source": [
    "students_marks= input('enter your marks :')\n",
    "print(\"marks is\",(students_marks))"
   ]
  },
  {
   "cell_type": "code",
   "execution_count": null,
   "id": "33bc2548",
   "metadata": {},
   "outputs": [],
   "source": []
  },
  {
   "cell_type": "markdown",
   "id": "8ef260d5",
   "metadata": {},
   "source": [
    "# functions and loops"
   ]
  },
  {
   "cell_type": "code",
   "execution_count": null,
   "id": "6dc491ce",
   "metadata": {},
   "outputs": [],
   "source": [
    "def get_details():\n",
    "    print('welcome')\n",
    "    print(\"Hello\")"
   ]
  },
  {
   "cell_type": "code",
   "execution_count": null,
   "id": "93a79ba8",
   "metadata": {},
   "outputs": [],
   "source": [
    " get_details()"
   ]
  },
  {
   "cell_type": "code",
   "execution_count": null,
   "id": "a9fff5d5",
   "metadata": {},
   "outputs": [],
   "source": [
    "def get_numbers(name,age):\n",
    "    print('Name-',name)\n",
    "    print('age-',age)\n",
    "    \n",
    "    "
   ]
  },
  {
   "cell_type": "code",
   "execution_count": null,
   "id": "1dd92ce6",
   "metadata": {},
   "outputs": [],
   "source": [
    "get_numbers('sayali',24)"
   ]
  },
  {
   "cell_type": "code",
   "execution_count": null,
   "id": "6797eb8f",
   "metadata": {},
   "outputs": [],
   "source": [
    "def get_employee_detailss(eid,ename,eage,org):\n",
    "    print('employee id:',eid)\n",
    "    print('employee name:',ename)\n",
    "    print('employee age:',eage)\n",
    "    print('workplace:',org)\n",
    "get_employee_detailss(1,'jon',26,'IBM')\n",
    "\n"
   ]
  },
  {
   "cell_type": "code",
   "execution_count": null,
   "id": "521c115b",
   "metadata": {},
   "outputs": [],
   "source": [
    "get_employee_detailss(2,'tom',27,'Tech')"
   ]
  },
  {
   "cell_type": "code",
   "execution_count": null,
   "id": "dd69996e",
   "metadata": {},
   "outputs": [],
   "source": [
    "get_employee_detailss(3,'jin',24,'HCL')"
   ]
  },
  {
   "cell_type": "code",
   "execution_count": null,
   "id": "28102213",
   "metadata": {},
   "outputs": [],
   "source": [
    "get_employee_detailss(4,'jk',25,'Spark')"
   ]
  },
  {
   "cell_type": "code",
   "execution_count": null,
   "id": "2456a506",
   "metadata": {},
   "outputs": [],
   "source": [
    "get_employee_detailss(5,'jimin',30,'Info')"
   ]
  },
  {
   "cell_type": "code",
   "execution_count": null,
   "id": "a39a96a2",
   "metadata": {
    "scrolled": false
   },
   "outputs": [],
   "source": [
    "for i in range(1,51,3):\n",
    "     print(i)\n"
   ]
  },
  {
   "cell_type": "markdown",
   "id": "fcb81bda",
   "metadata": {},
   "source": [
    "# Numpy\n"
   ]
  },
  {
   "cell_type": "code",
   "execution_count": null,
   "id": "b216bb52",
   "metadata": {},
   "outputs": [],
   "source": [
    "import numpy as np\n"
   ]
  },
  {
   "cell_type": "code",
   "execution_count": null,
   "id": "004a199e",
   "metadata": {},
   "outputs": [],
   "source": [
    "np.__version__"
   ]
  },
  {
   "cell_type": "code",
   "execution_count": null,
   "id": "6c826d78",
   "metadata": {},
   "outputs": [],
   "source": [
    "dir(np)    #all function in np"
   ]
  },
  {
   "cell_type": "code",
   "execution_count": null,
   "id": "d918dafd",
   "metadata": {},
   "outputs": [],
   "source": [
    "# integer array:\n",
    "a=np.array([1, 4, 2, 5, 3])\n",
    "a\n"
   ]
  },
  {
   "cell_type": "code",
   "execution_count": null,
   "id": "8ff9d888",
   "metadata": {},
   "outputs": [],
   "source": [
    "type(a)"
   ]
  },
  {
   "cell_type": "code",
   "execution_count": null,
   "id": "1e895896",
   "metadata": {},
   "outputs": [],
   "source": [
    "np.array([3.14, 4, 2, 3])\n"
   ]
  },
  {
   "cell_type": "code",
   "execution_count": null,
   "id": "329cc04c",
   "metadata": {},
   "outputs": [],
   "source": [
    "x=np.array([1, 2, 3, 4], dtype='float32') #If we want to explicitly set the data type of resulting array\n",
    "print(x)"
   ]
  },
  {
   "cell_type": "code",
   "execution_count": null,
   "id": "93a35b6b",
   "metadata": {},
   "outputs": [],
   "source": [
    "# nested lists multidimensional arrays\n",
    "np.array([[1,2,3],\n",
    "[4,5,6],\n",
    "[7,8,9]])\n"
   ]
  },
  {
   "cell_type": "code",
   "execution_count": null,
   "id": "82e04bdc",
   "metadata": {},
   "outputs": [],
   "source": [
    "np.array([[10,40,7],[1,2,9]])"
   ]
  },
  {
   "cell_type": "code",
   "execution_count": null,
   "id": "52c4a636",
   "metadata": {},
   "outputs": [],
   "source": [
    "x=np.array([\n",
    "[[1,2,3],\n",
    "[4,5,6],\n",
    "[7,8,9]],\n",
    "[[10,20,30],\n",
    "[40,50,60],\n",
    "[70,80,90]]\n",
    "])\n",
    "print(x)"
   ]
  },
  {
   "cell_type": "code",
   "execution_count": null,
   "id": "2d36921e",
   "metadata": {},
   "outputs": [],
   "source": [
    "# Create a length-10 integer array filled with zeros\n",
    "print(np.zeros(10, dtype=int))\n",
    "print(np.zeros((2,4), dtype=int))\n",
    "print(np.zeros((2,4,5), dtype=int))"
   ]
  },
  {
   "cell_type": "code",
   "execution_count": null,
   "id": "4033f746",
   "metadata": {},
   "outputs": [],
   "source": [
    "# Create a 3x1 floating-point array filled with 1s\n",
    "a=np.ones(4)\n",
    "print(a)\n",
    "a=np.ones(4,dtype=int)\n",
    "print(a)\n",
    "a=np.ones((3, 1), dtype=float)\n",
    "print(a)\n",
    "a1=np.ones((3,2,4))\n",
    "print(a1)\n",
    "b=np.full((3, 2), 99)\n",
    "print(b)"
   ]
  },
  {
   "cell_type": "code",
   "execution_count": null,
   "id": "0c81dd5c",
   "metadata": {},
   "outputs": [],
   "source": [
    "list(range(0,10,2))"
   ]
  },
  {
   "cell_type": "code",
   "execution_count": null,
   "id": "be9f92c4",
   "metadata": {},
   "outputs": [],
   "source": [
    "#Create an array filled with a linear sequence\n",
    "# Starting at 0, ending at 1, stepping by 0.1\n",
    "# (this is similar to the built-in range() function)\n",
    "np.arange(0, 1, 0.2) # simillar to seq command in R"
   ]
  },
  {
   "cell_type": "code",
   "execution_count": null,
   "id": "b7dcb8f0",
   "metadata": {},
   "outputs": [],
   "source": [
    "# Create an array of five values evenly spaced between 0 and 1\n",
    "print(np.linspace(0, 1, 5))\n",
    "print(np.linspace(1,100,100))\n"
   ]
  },
  {
   "cell_type": "markdown",
   "id": "a0a99113",
   "metadata": {},
   "source": [
    "# random module"
   ]
  },
  {
   "cell_type": "code",
   "execution_count": null,
   "id": "c67b0d05",
   "metadata": {},
   "outputs": [],
   "source": [
    "# np.random.rand(d0, d1, ..., dn)\n",
    "np.random.rand(10)\n"
   ]
  },
  {
   "cell_type": "code",
   "execution_count": null,
   "id": "2c8a5e4d",
   "metadata": {},
   "outputs": [],
   "source": [
    "np.random.rand(10,2)\n"
   ]
  },
  {
   "cell_type": "code",
   "execution_count": null,
   "id": "2a9e593e",
   "metadata": {},
   "outputs": [],
   "source": [
    "# np.random.randn(d0, d1, ..., dn)\n",
    "np.random.randn(10)\n"
   ]
  },
  {
   "cell_type": "code",
   "execution_count": null,
   "id": "60d1713b",
   "metadata": {},
   "outputs": [],
   "source": [
    "np.random.randn(3,4,2)\n"
   ]
  },
  {
   "cell_type": "code",
   "execution_count": null,
   "id": "7ebd960b",
   "metadata": {},
   "outputs": [],
   "source": [
    "#np.random.randint(low[, high, size, dtype])\n",
    "# This function of random module is used to generate random integers from␣,→inclusive(low) to exclusive(high).\n",
    "\n",
    "np.random.randint(2)"
   ]
  },
  {
   "cell_type": "code",
   "execution_count": null,
   "id": "4fbbccde",
   "metadata": {},
   "outputs": [],
   "source": [
    "np.random.randint(10,20,size=(3,2))"
   ]
  },
  {
   "cell_type": "code",
   "execution_count": null,
   "id": "bcd110e3",
   "metadata": {},
   "outputs": [],
   "source": [
    "np.random.random(5)"
   ]
  },
  {
   "cell_type": "code",
   "execution_count": null,
   "id": "2a82701c",
   "metadata": {},
   "outputs": [],
   "source": [
    "#Create a 10x1 array of uniformly distributed\n",
    "# random values between 0 and 1\n",
    "np.random.random((1, 5))"
   ]
  },
  {
   "cell_type": "code",
   "execution_count": null,
   "id": "a11a52a6",
   "metadata": {},
   "outputs": [],
   "source": [
    " #choice(a, size=None, replace=True, p=None) # similar to sample command in R\n",
    "xx=np.array([\"SDP\",\"VMS\",\"PVM\"])\n",
    "np.random.choice(xx, (10,3), 1)\n"
   ]
  },
  {
   "cell_type": "code",
   "execution_count": null,
   "id": "a2f4587c",
   "metadata": {},
   "outputs": [],
   "source": [
    "xx=np.array([\"SDP\",\"VMS\",\"PVM\"])\n",
    "np.random.choice(xx, 10, 1, p=(0.9,0.05,0.05))"
   ]
  },
  {
   "cell_type": "code",
   "execution_count": null,
   "id": "bf2d5718",
   "metadata": {},
   "outputs": [],
   "source": [
    "xx=np.array([\"SDP\",\"VMS\",\"PVM\"])\n",
    "print(xx)\n",
    "print(np.random.permutation(xx))\n",
    "print(xx)"
   ]
  },
  {
   "cell_type": "code",
   "execution_count": null,
   "id": "d3a4caf3",
   "metadata": {},
   "outputs": [],
   "source": [
    "xx=np.array([\"SDP\",\"VMS\",\"PVM\"])\n",
    "print(np.random.shuffle(xx))\n",
    "print(xx)"
   ]
  },
  {
   "cell_type": "code",
   "execution_count": null,
   "id": "c315fefc",
   "metadata": {},
   "outputs": [],
   "source": [
    "# binomial(n, p[, size])\n",
    "n, p = 10, .6\n",
    "s1= np.random.binomial(n, p, 10)\n",
    "s1"
   ]
  },
  {
   "cell_type": "code",
   "execution_count": null,
   "id": "c9a33ec6",
   "metadata": {},
   "outputs": [],
   "source": [
    "n, p = 10, .6\n",
    "s1= np.random.binomial(n, p, (10,3))\n",
    "s1"
   ]
  },
  {
   "cell_type": "code",
   "execution_count": null,
   "id": "01a166b7",
   "metadata": {},
   "outputs": [],
   "source": [
    "#np.random.chisquare(df[, size])\n",
    "np.random.chisquare(2,10)"
   ]
  },
  {
   "cell_type": "code",
   "execution_count": null,
   "id": "a7a11c6e",
   "metadata": {},
   "outputs": [],
   "source": [
    "# np.random.exponential([scale, size])\n",
    "np.random.exponential(2,5)"
   ]
  },
  {
   "cell_type": "code",
   "execution_count": null,
   "id": "a1bdc807",
   "metadata": {},
   "outputs": [],
   "source": [
    "#f(dfnum, dfden[, size])\n",
    "#gamma(shape[, scale, size])\n",
    "#geometric(p[, size])\n",
    "#hypergeometric(ngood, nbad, nsample[, size])\n",
    "#laplace([loc, scale, size])\n",
    "#logistic([loc, scale, size])\n",
    "#lognormal([mean, sigma, size])\n",
    "#multinomial(n, pvals[, size])\n",
    "#multivariate_normal(mean, cov[, size, ...)\n",
    "#negative_binomial(n, p[, size])\n",
    "#normal([loc, scale, size])\n",
    "#pareto(a[, size])\n",
    "#rayleigh([scale, size])\n",
    "#standard_cauchy([size])\n",
    "#standard_exponential([size])\n",
    "#standard_gamma([size])\n",
    "#standard_normal([size])\n",
    "#standard_t(df[, size])"
   ]
  },
  {
   "cell_type": "code",
   "execution_count": null,
   "id": "d88376d4",
   "metadata": {},
   "outputs": [],
   "source": [
    "print(np.random.normal())\n",
    "print(np.random.normal(0, 1, 10),'\\n')"
   ]
  },
  {
   "cell_type": "code",
   "execution_count": null,
   "id": "ae47ca6b",
   "metadata": {},
   "outputs": [],
   "source": [
    "np.random.normal(10,1,(2,5))"
   ]
  },
  {
   "cell_type": "code",
   "execution_count": null,
   "id": "c61ca8d0",
   "metadata": {},
   "outputs": [],
   "source": [
    "xx=np.array([\"SDP\",\"VMS\",\"PVM\"])\n",
    "xx.dtype"
   ]
  },
  {
   "cell_type": "code",
   "execution_count": null,
   "id": "be415e82",
   "metadata": {},
   "outputs": [],
   "source": [
    "from numpy.random import choice\n",
    "choice(xx, 10, 1)"
   ]
  },
  {
   "cell_type": "code",
   "execution_count": null,
   "id": "5e78761b",
   "metadata": {},
   "outputs": [],
   "source": [
    "#importing in another way\n",
    "from numpy.random import choice as ch\n",
    "ch(xx, 10, 1)"
   ]
  },
  {
   "cell_type": "code",
   "execution_count": null,
   "id": "199a47e1",
   "metadata": {},
   "outputs": [],
   "source": [
    "a=ch\n",
    "a(xx, 10, 1)"
   ]
  },
  {
   "cell_type": "code",
   "execution_count": null,
   "id": "5f1a3003",
   "metadata": {},
   "outputs": [],
   "source": [
    "# Create a 10x1 array of random integers in the interval [0, 100)\n",
    "print(np.random.randint(0, 100),'\\n')\n",
    "print(np.random.randint(100),'\\n')\n",
    "print(np.random.randint(0, 100, (10, 1)),'\\n')\n",
    "print(np.random.randint(100,size=(10,2)),'\\n')"
   ]
  },
  {
   "cell_type": "code",
   "execution_count": null,
   "id": "d571e7b0",
   "metadata": {},
   "outputs": [],
   "source": [
    "#Create a 3x3 identity matrix\n",
    "np.eye(3)\n"
   ]
  },
  {
   "cell_type": "code",
   "execution_count": null,
   "id": "d84eb477",
   "metadata": {},
   "outputs": [],
   "source": [
    "np.random.seed(0) # seed for reproducibility\n",
    "x1 = np.random.randint(10, size=10) # One-dimensional array\n",
    "x2 = np.random.randint(10, size=(3, 8)) # Two-dimensional array\n",
    "x3 = np.random.randint(10, size=(2, 4, 7)) # Three-dimensional array\n",
    "print(x1)\n",
    "print(x2)\n",
    "print(x3)"
   ]
  },
  {
   "cell_type": "code",
   "execution_count": null,
   "id": "63084d4b",
   "metadata": {},
   "outputs": [],
   "source": [
    "print(\"x1 ndim: \", x1.ndim)\n",
    "print(\"x2 ndim: \", x2.ndim)\n",
    "print(\"x2 shape:\", x2.shape) #shape of array 3*8\n",
    "print(\"x3 size: \", x3.size) #total no. of elements\n",
    "print(\"dtype:\", x3.dtype) #for data type\n",
    "print(\"itemsize:\", x1.itemsize, \"bytes\") #meomery size in byte of each element in array\n",
    "print(\"nbytes:\", x1.nbytes, \"bytes\") # total meomery size of array"
   ]
  },
  {
   "cell_type": "code",
   "execution_count": null,
   "id": "358e832b",
   "metadata": {},
   "outputs": [],
   "source": [
    "print(x1)\n",
    "print(x1[0])\n",
    "print(\"length of x1:\",len(x1))\n",
    "print(x1[10])"
   ]
  },
  {
   "cell_type": "code",
   "execution_count": null,
   "id": "b6777349",
   "metadata": {},
   "outputs": [],
   "source": [
    "print(x1[9])\n",
    "x1[-1] #To index from the end of the array, you can use negative indices"
   ]
  },
  {
   "cell_type": "code",
   "execution_count": null,
   "id": "0b71e01e",
   "metadata": {},
   "outputs": [],
   "source": [
    "#In a multidimensional array, you access items using a comma-separated tuple of indices\n",
    "print(x2)\n",
    "print(x2[0, 0])\n",
    "# modification in array\n",
    "x2[0, 0] = 12\n",
    "print(x2)\n"
   ]
  },
  {
   "cell_type": "code",
   "execution_count": null,
   "id": "4a51f679",
   "metadata": {},
   "outputs": [],
   "source": [
    "x2[0,0] = 3.14159 # this will be truncated!\n",
    "x2\n"
   ]
  },
  {
   "cell_type": "code",
   "execution_count": null,
   "id": "f9ead004",
   "metadata": {},
   "outputs": [],
   "source": [
    "import numpy as np\n",
    "x= np.arange(10)\n",
    "x"
   ]
  },
  {
   "cell_type": "code",
   "execution_count": null,
   "id": "555513f5",
   "metadata": {},
   "outputs": [],
   "source": [
    "print(x[:5]) # first five elements\n",
    "print(x[5:]) # elements after index 5\n",
    "print(x[4:7]) # middle subarray\n",
    "print(x[::2]) # every other element\n",
    "print(x[1::2]) # every other element, starting at index 1\n",
    "print(x[0::2]) # even numbers"
   ]
  },
  {
   "cell_type": "code",
   "execution_count": null,
   "id": "3bb10593",
   "metadata": {},
   "outputs": [],
   "source": [
    "print(x[::-1]) # all elements, reversed\n",
    "print(x[5::-2] ) # reversed every other from index 5\n",
    "print(x[5::2] )"
   ]
  },
  {
   "cell_type": "code",
   "execution_count": null,
   "id": "7b1a74ee",
   "metadata": {},
   "outputs": [],
   "source": [
    "x2 = ([[3 6 8 8 1 6 7 7],\n",
    "[8 1 5 9 8 9 4 3],\n",
    "[0 3 5 0 2 3 8 1]])\n",
    "print(x2)"
   ]
  },
  {
   "cell_type": "code",
   "execution_count": null,
   "id": "f8358429",
   "metadata": {},
   "outputs": [],
   "source": [
    "x2 = np.random.randint(10, size=(3, 8)) # Two-dimensional array\n",
    "print(x2)\n",
    "x2_sub = x2[:2, :2]\n",
    "print(x2_sub)\n",
    "x2_sub[0, 0] = 99\n",
    "print(x2_sub)"
   ]
  },
  {
   "cell_type": "code",
   "execution_count": null,
   "id": "653f1f10",
   "metadata": {},
   "outputs": [],
   "source": [
    "print(x2)"
   ]
  },
  {
   "cell_type": "code",
   "execution_count": null,
   "id": "41e1501a",
   "metadata": {},
   "outputs": [],
   "source": [
    "x2_sub_copy = x2[:2, :2].copy()\n",
    "print(x2_sub_copy)\n",
    "x2_sub_copy[0, 0] = 42\n",
    "print(x2_sub_copy)\n",
    "print(x2)"
   ]
  },
  {
   "cell_type": "code",
   "execution_count": null,
   "id": "034e3086",
   "metadata": {},
   "outputs": [],
   "source": [
    "a=np.arange(1, 10)\n",
    "print(a)\n",
    "b=a.reshape((3, 3))\n",
    "print(b)"
   ]
  },
  {
   "cell_type": "code",
   "execution_count": null,
   "id": "b017f7b1",
   "metadata": {},
   "outputs": [],
   "source": [
    "x = np.array([1, 2, 3])\n",
    "# row vector via reshape\n",
    "print(x.reshape((1, 3)))\n",
    "print(x)\n",
    "print(x.shape)"
   ]
  },
  {
   "cell_type": "code",
   "execution_count": null,
   "id": "d02a1de1",
   "metadata": {},
   "outputs": [],
   "source": [
    "# column vector via newaxis\n",
    "print(x[:, np.newaxis])\n",
    "x.shape"
   ]
  },
  {
   "cell_type": "code",
   "execution_count": null,
   "id": "e9bdc416",
   "metadata": {},
   "outputs": [],
   "source": [
    "x = np.array([1, 2, 3])\n",
    "y = np.array([3, 2, 1])\n",
    "np.concatenate([x, y])"
   ]
  },
  {
   "cell_type": "code",
   "execution_count": null,
   "id": "1b2fa375",
   "metadata": {},
   "outputs": [],
   "source": [
    "grid = np.array([[1, 2, 3],\n",
    "[4, 5, 6]])\n",
    "print(grid)\n",
    "#concatenate along the first axis\n",
    "np.concatenate([grid, grid])"
   ]
  },
  {
   "cell_type": "code",
   "execution_count": null,
   "id": "c9d523d8",
   "metadata": {},
   "outputs": [],
   "source": [
    "# horizontally stack the arrays\n",
    "y = np.array([[99],\n",
    "[99]])\n",
    "np.hstack([grid, y])"
   ]
  },
  {
   "cell_type": "code",
   "execution_count": null,
   "id": "547741f5",
   "metadata": {},
   "outputs": [],
   "source": [
    "x = [1, 2, 3, 99, 99, 3, 2, 1]\n",
    "x1, x2, x3 = np.split(x, [3, 5])\n",
    "print(x1, x2, x3)"
   ]
  },
  {
   "cell_type": "code",
   "execution_count": null,
   "id": "9754d826",
   "metadata": {},
   "outputs": [],
   "source": [
    "grid = np.arange(16).reshape((4, 4))\n",
    "print(grid)\n",
    "upper, lower = np.vsplit(grid, [2])\n",
    "print(\"upper\\n\",upper)\n",
    "print(\"lower\\n\",lower)\n",
    "left, right = np.hsplit(grid, [2])\n",
    "print(\"left\\n\",left)\n",
    "print(\"right\\n\",right)"
   ]
  },
  {
   "cell_type": "code",
   "execution_count": null,
   "id": "2ad31a00",
   "metadata": {},
   "outputs": [],
   "source": [
    "#The Slowness of Loops\n",
    "np.random.seed(0)\n",
    "def compute_reciprocals(values):\n",
    "    output = np.empty(len(values))\n",
    "    for i in range(len(values)):\n",
    "        output[i] = 1.0 / values[i]\n",
    "    return output\n",
    "values = np.random.randint(1, 10, size=5)\n",
    "print(compute_reciprocals(values))\n",
    "%timeit compute_reciprocals(values)\n"
   ]
  },
  {
   "cell_type": "code",
   "execution_count": null,
   "id": "e8c6de7f",
   "metadata": {},
   "outputs": [],
   "source": [
    "print(1.0 / values)\n",
    "%timeit (1.0 / values)"
   ]
  },
  {
   "cell_type": "code",
   "execution_count": null,
   "id": "e795ce1b",
   "metadata": {},
   "outputs": [],
   "source": [
    "x = np.arange(4)\n",
    "print(x)\n",
    "print(\"x + 5 =\", x + 5)\n",
    "print(\"x // 2 =\", x // 2) # floor division"
   ]
  },
  {
   "cell_type": "code",
   "execution_count": null,
   "id": "6813f0a9",
   "metadata": {},
   "outputs": [],
   "source": [
    "x = np.arange(4)\n",
    "print(x)\n",
    "print(np.add(x, 2))\n",
    "x = np.array([-2, -1, 0, 1, 2])\n",
    "np.absolute(x)"
   ]
  },
  {
   "cell_type": "code",
   "execution_count": null,
   "id": "9b5a07b5",
   "metadata": {},
   "outputs": [],
   "source": [
    "print(Out)"
   ]
  },
  {
   "cell_type": "code",
   "execution_count": null,
   "id": "804670fa",
   "metadata": {},
   "outputs": [],
   "source": [
    "#Exponents and logarithms\n",
    "x = [1, 2, 3]\n",
    "print(\"x =\", x)\n",
    "print(\"e^x =\", np.exp(x))\n",
    "print(\"2^x =\", np.exp2(x))\n",
    "print(\"3^x =\", np.power(3, x))\n",
    "print(\"3^x =\", np.power(x, 3))\n",
    "print(\"ln(x) =\", np.log(x))\n",
    "print(\"log2(x) =\", np.log2(x))\n",
    "print(\"log10(x) =\", np.log10(x))"
   ]
  },
  {
   "cell_type": "code",
   "execution_count": null,
   "id": "50b10489",
   "metadata": {},
   "outputs": [],
   "source": [
    "x = np.arange(1, 6)\n",
    "print(x)\n",
    "print(np.add.reduce(x))\n",
    "print(np.sum(x))\n",
    "print(np.multiply.reduce(x))\n",
    "print(np.cumsum(x)) # for cumsum\n",
    "print(np.cumprod(x)) #for cumulative product"
   ]
  },
  {
   "cell_type": "code",
   "execution_count": null,
   "id": "31b965da",
   "metadata": {},
   "outputs": [],
   "source": [
    "#Outer products\n",
    "x = np.arange(1, 6)\n",
    "print(x)\n",
    "print(np.multiply.outer(x, x))\n",
    "print(np.add.outer(x, x))\n"
   ]
  },
  {
   "cell_type": "code",
   "execution_count": null,
   "id": "9dad7e9b",
   "metadata": {},
   "outputs": [],
   "source": [
    "a = np.array([0, 1, 2])\n",
    "b = np.array([5, 5, 5])\n",
    "a + b\n"
   ]
  },
  {
   "cell_type": "code",
   "execution_count": null,
   "id": "77789c07",
   "metadata": {},
   "outputs": [],
   "source": [
    "a+5"
   ]
  },
  {
   "cell_type": "code",
   "execution_count": null,
   "id": "10f18229",
   "metadata": {},
   "outputs": [],
   "source": [
    "M = np.ones((3, 3))\n",
    "print(M)\n",
    "print('\\n ans\\n',M + a)"
   ]
  },
  {
   "cell_type": "code",
   "execution_count": null,
   "id": "1c4f13b6",
   "metadata": {},
   "outputs": [],
   "source": [
    "a = np.arange(3)\n",
    "b = np.arange(3)[:, np.newaxis]\n",
    "print(a)\n",
    "print(b)"
   ]
  },
  {
   "cell_type": "code",
   "execution_count": null,
   "id": "4a4db7d7",
   "metadata": {},
   "outputs": [],
   "source": [
    "a+b"
   ]
  },
  {
   "cell_type": "code",
   "execution_count": null,
   "id": "a6a138a9",
   "metadata": {},
   "outputs": [],
   "source": [
    " #example\n",
    "M = np.ones((2, 3))\n",
    "a = np.arange(3)\n",
    "M + a"
   ]
  },
  {
   "cell_type": "code",
   "execution_count": null,
   "id": "bc17abd4",
   "metadata": {},
   "outputs": [],
   "source": [
    "x = np.array([1, 2, 3, 4, 5])\n",
    "x < 3 # less than"
   ]
  },
  {
   "cell_type": "code",
   "execution_count": null,
   "id": "0b38076f",
   "metadata": {},
   "outputs": [],
   "source": [
    "(2 * x) == (x ** 2)"
   ]
  },
  {
   "cell_type": "code",
   "execution_count": null,
   "id": "44a46bb3",
   "metadata": {},
   "outputs": [],
   "source": [
    "2 * x"
   ]
  },
  {
   "cell_type": "code",
   "execution_count": null,
   "id": "9ece1c17",
   "metadata": {},
   "outputs": [],
   "source": [
    "x ** 2"
   ]
  },
  {
   "cell_type": "code",
   "execution_count": null,
   "id": "0b76fd58",
   "metadata": {},
   "outputs": [],
   "source": [
    "(2 * x) == 4"
   ]
  },
  {
   "cell_type": "code",
   "execution_count": null,
   "id": "0d367592",
   "metadata": {},
   "outputs": [],
   "source": [
    "# how many values less than 6?\n",
    "x = np.array([1, 2, 3, 4, 5,7,9,2])\n",
    "print(np.count_nonzero(x < 6))\n",
    "print(np.sum(x < 6))"
   ]
  },
  {
   "cell_type": "code",
   "execution_count": null,
   "id": "61be4cfd",
   "metadata": {},
   "outputs": [],
   "source": [
    "# are there any values greater than 8?\n",
    "np.any(x > 8)"
   ]
  },
  {
   "cell_type": "code",
   "execution_count": null,
   "id": "b8408935",
   "metadata": {},
   "outputs": [],
   "source": [
    "# are there any values less than zero?\n",
    "np.any(x < 0)"
   ]
  },
  {
   "cell_type": "code",
   "execution_count": null,
   "id": "dc5ce108",
   "metadata": {},
   "outputs": [],
   "source": [
    "x = np.array([1, 2, 3, 4, 5,7,9,2])\n",
    "np.sum((x> 3) & (x < 7))\n"
   ]
  },
  {
   "cell_type": "code",
   "execution_count": null,
   "id": "2999112b",
   "metadata": {},
   "outputs": [],
   "source": [
    "x[x<5]"
   ]
  },
  {
   "cell_type": "code",
   "execution_count": null,
   "id": "dbb2c492",
   "metadata": {},
   "outputs": [],
   "source": [
    "x = np.random.randint(100, size=10)\n",
    "print(x)\n",
    "[ x[3], x[7], x[2] ]"
   ]
  },
  {
   "cell_type": "code",
   "execution_count": null,
   "id": "7d5da083",
   "metadata": {},
   "outputs": [],
   "source": [
    "#fancy index\n",
    "ind = [3, 7, 2]\n",
    "x[ind]\n"
   ]
  },
  {
   "cell_type": "code",
   "execution_count": null,
   "id": "85ac3a5d",
   "metadata": {},
   "outputs": [],
   "source": [
    "X = np.arange(12).reshape((3, 4))\n",
    "print(X)\n",
    "row = np.array([0, 1, 2])\n",
    "col = np.array([2, 1, 3])\n",
    "X[row, col]"
   ]
  },
  {
   "cell_type": "code",
   "execution_count": null,
   "id": "efea2421",
   "metadata": {},
   "outputs": [],
   "source": [
    "x = np.arange(10)\n",
    "print(x)\n",
    "i = np.array([2, 1, 8, 4])\n",
    "x[i] = 99\n",
    "print(x)\n",
    "x[i] -= 10\n",
    "print(x)\n"
   ]
  },
  {
   "cell_type": "code",
   "execution_count": null,
   "id": "cb65d48c",
   "metadata": {},
   "outputs": [],
   "source": [
    "x = np.array([2, 1, 4, 3, 5])\n",
    "print(x)\n",
    "print(np.sort(x)) # Sort in ascending order\n",
    "print(np.sort(x)[::-1]) # Sort in descending order"
   ]
  },
  {
   "cell_type": "code",
   "execution_count": null,
   "id": "7067cda3",
   "metadata": {},
   "outputs": [],
   "source": [
    "x=np.array([20,10,30])\n",
    "print(x)\n",
    "print(np.argsort(x))\n"
   ]
  },
  {
   "cell_type": "code",
   "execution_count": null,
   "id": "37401384",
   "metadata": {},
   "outputs": [],
   "source": [
    "X = np.random.randint(0, 10, (4, 6))\n",
    "print(X)\n",
    "print(np.sort(X))\n"
   ]
  },
  {
   "cell_type": "code",
   "execution_count": null,
   "id": "8c28ae6d",
   "metadata": {},
   "outputs": [],
   "source": [
    "X = np.random.randint(0, 10, (4, 6))\n",
    "print(X)\n",
    "print(np.sort(X, axis=0)) # sort each column of X\n",
    "print(np.sort(X, axis=1))\n"
   ]
  },
  {
   "cell_type": "code",
   "execution_count": null,
   "id": "5b12bbae",
   "metadata": {},
   "outputs": [],
   "source": [
    "X = np.random.randint(0, 10, (4, 6))\n",
    "print(X)\n",
    "print(np.sort(X))\n",
    "print(np.sort(X, axis=1))"
   ]
  },
  {
   "cell_type": "code",
   "execution_count": null,
   "id": "a16c5810",
   "metadata": {},
   "outputs": [],
   "source": [
    "X = np.random.randint(0, 10, (4, 6))\n",
    "print(X)\n",
    "print(X[:, 1])\n",
    "print(X[:, 1].argsort())\n",
    "print(X[ X[:, 1].argsort() ])\n",
    "print(X[:,X[2, :].argsort()])"
   ]
  },
  {
   "cell_type": "code",
   "execution_count": null,
   "id": "19f0da55",
   "metadata": {},
   "outputs": [],
   "source": [
    "name = ['Ram', 'Shyam', 'Seeta', 'Geeta']\n",
    "age = [25, 45, 37, 19]\n",
    "weight = [55.0, 85.5, 68.0, 61.5]\n"
   ]
  },
  {
   "cell_type": "code",
   "execution_count": null,
   "id": "d4e362b5",
   "metadata": {},
   "outputs": [],
   "source": [
    "#Use a compound data type for structured arrays\n",
    "data = np.zeros(4, dtype={'names':('name', 'age', 'weight'),\n",
    "'formats':('U10', 'i4', 'f8')})\n",
    "print(data)\n",
    "data['name'] = name\n",
    "data['age'] = age\n",
    "data['weight'] = weight\n",
    "print(data)"
   ]
  },
  {
   "cell_type": "code",
   "execution_count": null,
   "id": "5e2c1279",
   "metadata": {},
   "outputs": [],
   "source": [
    "# Get all names\n",
    "print(data['name'])\n",
    "print(data[0])\n",
    "# Get names where age is under 30\n",
    "print(data[data['age'] < 30])\n",
    "print(data[data['age'] < 30]['name'])\n"
   ]
  },
  {
   "cell_type": "code",
   "execution_count": null,
   "id": "6c86c257",
   "metadata": {},
   "outputs": [],
   "source": [
    "np.sort(data,order=['age'])\n"
   ]
  },
  {
   "cell_type": "code",
   "execution_count": null,
   "id": "e18b9234",
   "metadata": {},
   "outputs": [],
   "source": [
    "np.dtype('S10,i4,f8')"
   ]
  },
  {
   "cell_type": "code",
   "execution_count": null,
   "id": "70cd349f",
   "metadata": {},
   "outputs": [],
   "source": [
    "## n random observation from B(p)\n",
    "n=10\n",
    "p=0.3\n",
    "x=np.empty(n)\n",
    "for i in range(n):\n",
    "    u=np.random.random()\n",
    "if u<p:\n",
    "    x[i]=1\n",
    "else:\n",
    "    x[i]=0\n",
    "x"
   ]
  },
  {
   "cell_type": "code",
   "execution_count": null,
   "id": "32f130ad",
   "metadata": {},
   "outputs": [],
   "source": [
    "## m random observation from B(n,p)\n",
    "m=20 # sample size\n",
    "n=10\n",
    "p=0.5\n",
    "x=np.zeros(m)\n",
    "for j in range(m):\n",
    "    for i in range(n):\n",
    "        u=np.random.random()\n",
    "    if u<p:\n",
    "        x[j]=x[j]+1\n",
    "x"
   ]
  },
  {
   "cell_type": "code",
   "execution_count": null,
   "id": "6a3e2e57",
   "metadata": {},
   "outputs": [],
   "source": [
    "## single observation from P(lm)\n",
    "x=-1\n",
    "lm=0.5\n",
    "p=1\n",
    "a=np.exp(-lm)\n",
    "while p>a:\n",
    "     u=np.random.random()\n",
    "     p*=u\n",
    "     x+=1\n",
    "x\n"
   ]
  },
  {
   "cell_type": "markdown",
   "id": "55300372",
   "metadata": {},
   "source": [
    "# pandas"
   ]
  },
  {
   "cell_type": "code",
   "execution_count": null,
   "id": "41d77e05",
   "metadata": {},
   "outputs": [],
   "source": [
    "import pandas\n",
    "pandas.__version__"
   ]
  },
  {
   "cell_type": "code",
   "execution_count": null,
   "id": "e2d70216",
   "metadata": {},
   "outputs": [],
   "source": [
    "import pandas as pd\n",
    "import numpy as np"
   ]
  },
  {
   "cell_type": "code",
   "execution_count": null,
   "id": "27ce0dd4",
   "metadata": {},
   "outputs": [],
   "source": [
    "data = pd.Series ([10,20,30,40,50])\n",
    "data"
   ]
  },
  {
   "cell_type": "code",
   "execution_count": null,
   "id": "e9085a0f",
   "metadata": {},
   "outputs": [],
   "source": [
    "type(data)"
   ]
  },
  {
   "cell_type": "code",
   "execution_count": null,
   "id": "7faee9aa",
   "metadata": {},
   "outputs": [],
   "source": [
    "data.values"
   ]
  },
  {
   "cell_type": "code",
   "execution_count": null,
   "id": "4ef2e6c9",
   "metadata": {},
   "outputs": [],
   "source": [
    "data.index"
   ]
  },
  {
   "cell_type": "code",
   "execution_count": null,
   "id": "69ac3da0",
   "metadata": {},
   "outputs": [],
   "source": [
    "data[0]"
   ]
  },
  {
   "cell_type": "code",
   "execution_count": null,
   "id": "1a5eeafb",
   "metadata": {},
   "outputs": [],
   "source": [
    "data[1:3]"
   ]
  },
  {
   "cell_type": "code",
   "execution_count": null,
   "id": "9b257edf",
   "metadata": {},
   "outputs": [],
   "source": [
    "data = pd.Series([0.25, 0.5, 0.75, 1.0], index=['a', 'b', 'c', 'd'])\n",
    "data"
   ]
  },
  {
   "cell_type": "code",
   "execution_count": null,
   "id": "d6b45a7a",
   "metadata": {},
   "outputs": [],
   "source": [
    "data['a']"
   ]
  },
  {
   "cell_type": "code",
   "execution_count": null,
   "id": "aaf90f7c",
   "metadata": {},
   "outputs": [],
   "source": [
    "# We can even use noncontiguous or nonsequential indices\n",
    "data = pd.Series([0.25, 0.5, 0.75, 1.0], index=[2, 5, 3, 7])\n",
    "data"
   ]
  },
  {
   "cell_type": "code",
   "execution_count": null,
   "id": "275d2375",
   "metadata": {},
   "outputs": [],
   "source": [
    "data[2]"
   ]
  },
  {
   "cell_type": "code",
   "execution_count": null,
   "id": "9edb3203",
   "metadata": {},
   "outputs": [],
   "source": [
    "population_dict = {'California': 38332521, 'Texas': 26448193, 'New York':19651127, 'Florida': 19552860, 'Illinois': 12882135}\n",
    "population = pd.Series(population_dict)\n",
    "population"
   ]
  },
  {
   "cell_type": "code",
   "execution_count": null,
   "id": "8404f34f",
   "metadata": {},
   "outputs": [],
   "source": [
    "population['California']"
   ]
  },
  {
   "cell_type": "code",
   "execution_count": null,
   "id": "f70d191e",
   "metadata": {},
   "outputs": [],
   "source": [
    "population['California':'Florida']"
   ]
  },
  {
   "cell_type": "code",
   "execution_count": null,
   "id": "c170c567",
   "metadata": {},
   "outputs": [],
   "source": [
    "pd.Series(5, index=[100, 200, 300])\n"
   ]
  },
  {
   "cell_type": "code",
   "execution_count": null,
   "id": "aacaa7d8",
   "metadata": {},
   "outputs": [],
   "source": [
    "pd.Series({2:'a', 1:'b', 3:'c'}) # data can be a dictionary, in which index defaults to the sorted dictionary keys"
   ]
  },
  {
   "cell_type": "code",
   "execution_count": null,
   "id": "abe8179e",
   "metadata": {},
   "outputs": [],
   "source": [
    "pd.Series({2:'a', 1:'b', 3:'c'}, index=[3, 2])"
   ]
  },
  {
   "cell_type": "code",
   "execution_count": null,
   "id": "9b8a39b7",
   "metadata": {},
   "outputs": [],
   "source": [
    "population_dict = {'California': 38332521, 'Texas': 26448193, 'New York':19651127, 'Florida': 19552860, 'Illinois': 12882135}\n",
    "population = pd.Series(population_dict)\n",
    "population"
   ]
  },
  {
   "cell_type": "code",
   "execution_count": null,
   "id": "829c022d",
   "metadata": {},
   "outputs": [],
   "source": [
    "area_dict = { 'Texas': 695662, 'New York': 141297,'Florida': 170312, 'Illinois':149995,'California': 423967,}\n",
    "area = pd.Series(area_dict)\n",
    "area"
   ]
  },
  {
   "cell_type": "code",
   "execution_count": null,
   "id": "29b59ac0",
   "metadata": {},
   "outputs": [],
   "source": [
    "states = pd.DataFrame({'population': population, 'area': area})\n",
    "states"
   ]
  },
  {
   "cell_type": "code",
   "execution_count": null,
   "id": "e57ab63a",
   "metadata": {},
   "outputs": [],
   "source": [
    "type(states)"
   ]
  },
  {
   "cell_type": "code",
   "execution_count": null,
   "id": "3efa5ddc",
   "metadata": {},
   "outputs": [],
   "source": [
    "states.index"
   ]
  },
  {
   "cell_type": "code",
   "execution_count": null,
   "id": "1785e18e",
   "metadata": {},
   "outputs": [],
   "source": [
    "states.columns"
   ]
  },
  {
   "cell_type": "code",
   "execution_count": null,
   "id": "080e2cf5",
   "metadata": {
    "scrolled": true
   },
   "outputs": [],
   "source": [
    "states['area']"
   ]
  },
  {
   "cell_type": "code",
   "execution_count": null,
   "id": "959d1903",
   "metadata": {},
   "outputs": [],
   "source": [
    "#From a single Series object.\n",
    "pd.DataFrame(population, columns=['population'])"
   ]
  },
  {
   "cell_type": "code",
   "execution_count": null,
   "id": "882e2369",
   "metadata": {},
   "outputs": [],
   "source": [
    "# From a list of dicts\n",
    "data = [{'a': i, 'b': 2 * i} for i in range(3)]\n",
    "pd.DataFrame(data)"
   ]
  },
  {
   "cell_type": "code",
   "execution_count": null,
   "id": "8510447b",
   "metadata": {},
   "outputs": [],
   "source": [
    "#From a dictionary of Series objects\n",
    "pd.DataFrame({'population': population, 'area': area})"
   ]
  },
  {
   "cell_type": "code",
   "execution_count": null,
   "id": "5da044aa",
   "metadata": {},
   "outputs": [],
   "source": [
    "ind = pd.Index([2, 3, 5, 7, 11])\n",
    "ind"
   ]
  },
  {
   "cell_type": "code",
   "execution_count": null,
   "id": "635c1fe9",
   "metadata": {},
   "outputs": [],
   "source": [
    "ind[1]"
   ]
  },
  {
   "cell_type": "code",
   "execution_count": null,
   "id": "cb652dda",
   "metadata": {},
   "outputs": [],
   "source": [
    "ind[::2]"
   ]
  },
  {
   "cell_type": "code",
   "execution_count": null,
   "id": "032ce660",
   "metadata": {},
   "outputs": [],
   "source": [
    "print(ind.size, ind.shape, ind.ndim, ind.dtype)\n",
    "\n"
   ]
  },
  {
   "cell_type": "code",
   "execution_count": null,
   "id": "ec31c66c",
   "metadata": {},
   "outputs": [],
   "source": [
    "indA = pd.Index([1, 3, 5, 7, 9])\n",
    "indB = pd.Index([2, 3, 5, 7, 11])\n"
   ]
  },
  {
   "cell_type": "code",
   "execution_count": null,
   "id": "ec60236f",
   "metadata": {},
   "outputs": [],
   "source": [
    "indA & indB   #intersection"
   ]
  },
  {
   "cell_type": "code",
   "execution_count": null,
   "id": "a932b231",
   "metadata": {},
   "outputs": [],
   "source": [
    "indA | indB # union"
   ]
  },
  {
   "cell_type": "code",
   "execution_count": null,
   "id": "f94b3f5b",
   "metadata": {},
   "outputs": [],
   "source": [
    "data = pd.Series([0.25, 0.5, 0.75, 1.0],index=['a', 'b', 'c', 'd'])\n",
    "data"
   ]
  },
  {
   "cell_type": "code",
   "execution_count": null,
   "id": "656ae602",
   "metadata": {},
   "outputs": [],
   "source": [
    "data['b']"
   ]
  },
  {
   "cell_type": "code",
   "execution_count": null,
   "id": "cb4861f4",
   "metadata": {},
   "outputs": [],
   "source": [
    "data[2]"
   ]
  },
  {
   "cell_type": "code",
   "execution_count": null,
   "id": "b5263894",
   "metadata": {},
   "outputs": [],
   "source": [
    "'a' in data"
   ]
  },
  {
   "cell_type": "code",
   "execution_count": null,
   "id": "fb41f749",
   "metadata": {},
   "outputs": [],
   "source": [
    "data.keys()"
   ]
  },
  {
   "cell_type": "code",
   "execution_count": null,
   "id": "4e93c84d",
   "metadata": {},
   "outputs": [],
   "source": [
    "list(data.items())"
   ]
  },
  {
   "cell_type": "code",
   "execution_count": null,
   "id": "0eebc9b3",
   "metadata": {},
   "outputs": [],
   "source": [
    "data['e']=1.25\n",
    "data"
   ]
  },
  {
   "cell_type": "code",
   "execution_count": null,
   "id": "be8f5f39",
   "metadata": {},
   "outputs": [],
   "source": [
    "# slicing by explicit index\n",
    "data['a':'c']"
   ]
  },
  {
   "cell_type": "code",
   "execution_count": null,
   "id": "bd3268bc",
   "metadata": {},
   "outputs": [],
   "source": [
    "# slicing by implicit integer index\n",
    "data[0:2]\n"
   ]
  },
  {
   "cell_type": "code",
   "execution_count": null,
   "id": "b9da3b3b",
   "metadata": {},
   "outputs": [],
   "source": [
    "data\n",
    "data[(data>0.3) & (data<0.8)]"
   ]
  },
  {
   "cell_type": "code",
   "execution_count": null,
   "id": "ebe18364",
   "metadata": {},
   "outputs": [],
   "source": [
    "# fancy indexing\n",
    "data[ ['a', 'e'] ]"
   ]
  },
  {
   "cell_type": "code",
   "execution_count": null,
   "id": "101f4a47",
   "metadata": {},
   "outputs": [],
   "source": [
    "data = pd.Series(['a', 'b', 'c'], index=[1, 3, 5])\n",
    "data"
   ]
  },
  {
   "cell_type": "code",
   "execution_count": null,
   "id": "b0751ab4",
   "metadata": {},
   "outputs": [],
   "source": [
    "# explicit index when indexing\n",
    "data[1]\n"
   ]
  },
  {
   "cell_type": "code",
   "execution_count": null,
   "id": "07beb4aa",
   "metadata": {},
   "outputs": [],
   "source": [
    "# implicit index when slicing\n",
    "data[1:3]"
   ]
  },
  {
   "cell_type": "code",
   "execution_count": null,
   "id": "3a571c2b",
   "metadata": {},
   "outputs": [],
   "source": [
    "data"
   ]
  },
  {
   "cell_type": "code",
   "execution_count": null,
   "id": "0401969c",
   "metadata": {},
   "outputs": [],
   "source": [
    "data.loc[1]"
   ]
  },
  {
   "cell_type": "code",
   "execution_count": null,
   "id": "9bd8f4f6",
   "metadata": {},
   "outputs": [],
   "source": [
    "data.loc[1:3]"
   ]
  },
  {
   "cell_type": "code",
   "execution_count": null,
   "id": "7014e320",
   "metadata": {},
   "outputs": [],
   "source": [
    "data.iloc[1]"
   ]
  },
  {
   "cell_type": "code",
   "execution_count": null,
   "id": "6bedf29d",
   "metadata": {},
   "outputs": [],
   "source": [
    "data.iloc[1:3]"
   ]
  },
  {
   "cell_type": "code",
   "execution_count": null,
   "id": "99b4fd07",
   "metadata": {},
   "outputs": [],
   "source": [
    "rng = np.random.RandomState(42)\n",
    "ser = pd.Series(rng.randint(0, 10, 4))\n",
    "ser"
   ]
  },
  {
   "cell_type": "code",
   "execution_count": null,
   "id": "8b70ed14",
   "metadata": {},
   "outputs": [],
   "source": [
    "df = pd.DataFrame(rng.randint(0, 10, (3, 4)), columns=['A', 'B', 'C', 'D'])\n",
    "df"
   ]
  },
  {
   "cell_type": "code",
   "execution_count": null,
   "id": "8ba0e7a9",
   "metadata": {},
   "outputs": [],
   "source": [
    " np.exp(ser)\n"
   ]
  },
  {
   "cell_type": "code",
   "execution_count": null,
   "id": "e23e50cb",
   "metadata": {},
   "outputs": [],
   "source": [
    "A = rng.randint(10, size=(3, 4))\n",
    "A"
   ]
  },
  {
   "cell_type": "code",
   "execution_count": null,
   "id": "71033e93",
   "metadata": {},
   "outputs": [],
   "source": [
    "df = pd.DataFrame(A, columns=list('QRST'))\n",
    "df"
   ]
  },
  {
   "cell_type": "code",
   "execution_count": null,
   "id": "185623e1",
   "metadata": {},
   "outputs": [],
   "source": [
    "df - df.iloc[0]\n"
   ]
  },
  {
   "cell_type": "code",
   "execution_count": null,
   "id": "973d6fb6",
   "metadata": {},
   "outputs": [],
   "source": [
    "df.subtract(df['R'], axis=0)"
   ]
  },
  {
   "cell_type": "code",
   "execution_count": null,
   "id": "316b522c",
   "metadata": {},
   "outputs": [],
   "source": [
    "df"
   ]
  },
  {
   "cell_type": "code",
   "execution_count": null,
   "id": "69c02d30",
   "metadata": {},
   "outputs": [],
   "source": [
    "halfrow = df.iloc[0, ::2]\n",
    "halfrow"
   ]
  },
  {
   "cell_type": "markdown",
   "id": "bee9a169",
   "metadata": {},
   "source": [
    "# Handling Missing Data\n"
   ]
  },
  {
   "cell_type": "code",
   "execution_count": null,
   "id": "5ca81be2",
   "metadata": {},
   "outputs": [],
   "source": [
    "vals2 = np.array([1, np.nan, 3, 4])    #nan missing data\n",
    "vals2.dtype"
   ]
  },
  {
   "cell_type": "code",
   "execution_count": null,
   "id": "2f188edd",
   "metadata": {},
   "outputs": [],
   "source": [
    "1+np.nan"
   ]
  },
  {
   "cell_type": "code",
   "execution_count": null,
   "id": "188ea191",
   "metadata": {},
   "outputs": [],
   "source": [
    "0 * np.nan"
   ]
  },
  {
   "cell_type": "code",
   "execution_count": null,
   "id": "9708c71d",
   "metadata": {},
   "outputs": [],
   "source": [
    "vals2.sum(), vals2.min(), vals2.max()"
   ]
  },
  {
   "cell_type": "code",
   "execution_count": null,
   "id": "3804969f",
   "metadata": {},
   "outputs": [],
   "source": [
    "pd.Series([1, np.nan, 2, None])"
   ]
  },
  {
   "cell_type": "code",
   "execution_count": null,
   "id": "4a9f84f9",
   "metadata": {},
   "outputs": [],
   "source": [
    "x = pd.Series(range(2), dtype=int)\n",
    "x\n"
   ]
  },
  {
   "cell_type": "code",
   "execution_count": null,
   "id": "b01510b1",
   "metadata": {},
   "outputs": [],
   "source": [
    "x[0] = None\n",
    "x"
   ]
  },
  {
   "cell_type": "code",
   "execution_count": null,
   "id": "fe100de6",
   "metadata": {},
   "outputs": [],
   "source": [
    "#Detecting null values\n",
    "data = pd.Series([1, np.nan, 'hello', None])\n",
    "data"
   ]
  },
  {
   "cell_type": "code",
   "execution_count": null,
   "id": "d9df9f95",
   "metadata": {},
   "outputs": [],
   "source": [
    "data.isnull()   #isnull() Generate a Boolean mask indicating missing values\n"
   ]
  },
  {
   "cell_type": "code",
   "execution_count": null,
   "id": "2cb5dded",
   "metadata": {},
   "outputs": [],
   "source": [
    "data.notnull()   #notnull() Opposite of isnull()\n"
   ]
  },
  {
   "cell_type": "code",
   "execution_count": null,
   "id": "471881cf",
   "metadata": {},
   "outputs": [],
   "source": [
    "data[data.notnull()]"
   ]
  },
  {
   "cell_type": "code",
   "execution_count": null,
   "id": "e401d5e0",
   "metadata": {},
   "outputs": [],
   "source": [
    "data.dropna()   #Return a filtered version of the data    #dropna() will drop all rows in which any null value is present\n",
    "\n"
   ]
  },
  {
   "cell_type": "code",
   "execution_count": null,
   "id": "327e1d2e",
   "metadata": {},
   "outputs": [],
   "source": [
    "df = pd.DataFrame([[1, np.nan, 2],[2, 3, 5],[np.nan, 4, 6]])\n",
    "df"
   ]
  },
  {
   "cell_type": "code",
   "execution_count": null,
   "id": "ff6d1632",
   "metadata": {},
   "outputs": [],
   "source": [
    "df.dropna(axis='columns')"
   ]
  },
  {
   "cell_type": "code",
   "execution_count": null,
   "id": "fa4961d6",
   "metadata": {},
   "outputs": [],
   "source": [
    "df"
   ]
  },
  {
   "cell_type": "code",
   "execution_count": null,
   "id": "65e91744",
   "metadata": {},
   "outputs": [],
   "source": [
    "df[3]=np.nan\n",
    "df"
   ]
  },
  {
   "cell_type": "code",
   "execution_count": null,
   "id": "a336f09f",
   "metadata": {},
   "outputs": [],
   "source": [
    "df.dropna(axis='columns', how='all')"
   ]
  },
  {
   "cell_type": "code",
   "execution_count": null,
   "id": "b77fcdd9",
   "metadata": {},
   "outputs": [],
   "source": [
    "df.dropna(axis='columns', how='any')"
   ]
  },
  {
   "cell_type": "code",
   "execution_count": null,
   "id": "32cbf3a2",
   "metadata": {
    "scrolled": true
   },
   "outputs": [],
   "source": [
    "data = pd.Series([1, np.nan, 2, None, 3], index=list('abcde'))\n",
    "data"
   ]
  },
  {
   "cell_type": "code",
   "execution_count": null,
   "id": "fc0b5be3",
   "metadata": {
    "scrolled": true
   },
   "outputs": [],
   "source": [
    "data.fillna(0)    # Return a copy of the data with missing values filled or imputed"
   ]
  },
  {
   "cell_type": "code",
   "execution_count": null,
   "id": "9db8872b",
   "metadata": {},
   "outputs": [],
   "source": [
    "# forward-fill\n",
    "data.fillna(method='ffill')   # forward-fill\n"
   ]
  },
  {
   "cell_type": "code",
   "execution_count": null,
   "id": "14d3b5e5",
   "metadata": {},
   "outputs": [],
   "source": [
    "# back-fill\n",
    "data.fillna(method='bfill')"
   ]
  },
  {
   "cell_type": "code",
   "execution_count": null,
   "id": "ef9d9426",
   "metadata": {},
   "outputs": [],
   "source": [
    "df"
   ]
  },
  {
   "cell_type": "code",
   "execution_count": null,
   "id": "b9877f80",
   "metadata": {},
   "outputs": [],
   "source": [
    "df.fillna(999)"
   ]
  },
  {
   "cell_type": "code",
   "execution_count": null,
   "id": "55326b38",
   "metadata": {},
   "outputs": [],
   "source": [
    "df.fillna(method='ffill', axis=1)"
   ]
  },
  {
   "cell_type": "code",
   "execution_count": null,
   "id": "9cc30a72",
   "metadata": {},
   "outputs": [],
   "source": [
    " df.fillna(method='bfill', axis=1)"
   ]
  },
  {
   "cell_type": "markdown",
   "id": "0e99ad6d",
   "metadata": {},
   "source": [
    "# Combining Datasets: Concat and Append"
   ]
  },
  {
   "cell_type": "code",
   "execution_count": null,
   "id": "296cdf62",
   "metadata": {},
   "outputs": [],
   "source": [
    "def make_df(cols, ind):\n",
    "    \"\"\"Quickly make a DataFrame\"\"\"\n",
    "    data = {c: [str(c) + str(i) for i in ind] for c in cols}\n",
    "    return pd.DataFrame(data, ind)\n",
    "\n",
    "# example DataFrame\n",
    "make_df('ABC', range(3))"
   ]
  },
  {
   "cell_type": "code",
   "execution_count": null,
   "id": "7b371e6d",
   "metadata": {},
   "outputs": [],
   "source": [
    "cols=list('ABC')\n",
    "ind=range(3)\n",
    "{c: [str(c) + str(i) for i in ind] for c in cols}"
   ]
  },
  {
   "cell_type": "code",
   "execution_count": null,
   "id": "5a930abc",
   "metadata": {},
   "outputs": [],
   "source": [
    "x = [1, 2, 3]\n",
    "y = [4, 5, 6]\n",
    "z = [7, 8, 9]\n",
    "np.concatenate([x, y, z])"
   ]
  },
  {
   "cell_type": "code",
   "execution_count": null,
   "id": "8e91a4a5",
   "metadata": {},
   "outputs": [],
   "source": [
    "x = [[1, 2],[3, 4]]\n",
    "np.concatenate([x, x], axis=0)"
   ]
  },
  {
   "cell_type": "code",
   "execution_count": null,
   "id": "2c087ebe",
   "metadata": {},
   "outputs": [],
   "source": [
    "ser1 = pd.Series(['A', 'B', 'C'], index=[1, 2, 3])\n",
    "ser2 = pd.Series(['D', 'E', 'F'], index=[4, 5, 6])\n",
    "pd.concat([ser1, ser2])\n"
   ]
  },
  {
   "cell_type": "code",
   "execution_count": null,
   "id": "f4cc10a9",
   "metadata": {},
   "outputs": [],
   "source": [
    "df1 = make_df('AB', [1, 2])\n",
    "df2 = make_df('AB', [3, 4])\n",
    "print(df1)\n",
    "print(df2)\n",
    "print(pd.concat([df1, df2]))\n"
   ]
  },
  {
   "cell_type": "code",
   "execution_count": null,
   "id": "98499020",
   "metadata": {},
   "outputs": [],
   "source": [
    "df3 = make_df('AB', [0, 1])\n",
    "df4 = make_df('CD', [0, 1])\n",
    "print(df3)\n",
    "print(df4)\n",
    "print(pd.concat([df3, df4], axis='columns')) # axis=1"
   ]
  },
  {
   "cell_type": "code",
   "execution_count": null,
   "id": "e8d03801",
   "metadata": {},
   "outputs": [],
   "source": [
    "x = make_df('AB', [0, 1])\n",
    "y = make_df('AB', [2, 3])\n",
    "y.index = x.index # make duplicate indices!\n",
    "print(x); print(y); print(pd.concat([x, y]))"
   ]
  },
  {
   "cell_type": "code",
   "execution_count": null,
   "id": "a6078f65",
   "metadata": {},
   "outputs": [],
   "source": [
    "df5 = make_df('ABC',[1, 2])     #Concatenation with joins\n",
    "df6 = make_df('BCD',[3, 4])\n",
    "print(df5)\n",
    "print(df6)\n",
    "print(pd.concat([df5, df6]))"
   ]
  },
  {
   "cell_type": "code",
   "execution_count": null,
   "id": "75da7478",
   "metadata": {},
   "outputs": [],
   "source": [
    "print(df5); print(df6);\n",
    "print(pd.concat([df5, df6], join='inner'))\n"
   ]
  },
  {
   "cell_type": "code",
   "execution_count": null,
   "id": "dee28394",
   "metadata": {},
   "outputs": [],
   "source": [
    "print(df5)\n",
    "print(df6)\n",
    "print(pd.concat([df5, df6],join_axes=[df5.columns]))"
   ]
  },
  {
   "cell_type": "code",
   "execution_count": null,
   "id": "c1be7af3",
   "metadata": {},
   "outputs": [],
   "source": [
    "print(df5)\n",
    "print(df6)\n",
    "print(pd.concat([df5, df6], join_axes=[df6.columns]))"
   ]
  },
  {
   "cell_type": "code",
   "execution_count": null,
   "id": "86c135ff",
   "metadata": {},
   "outputs": [],
   "source": [
    "print(df1)      #The append() method\n",
    "print(df2)\n",
    "print(df1.append(df2))\n"
   ]
  },
  {
   "cell_type": "code",
   "execution_count": null,
   "id": "5cc4d88a",
   "metadata": {},
   "outputs": [],
   "source": [
    "df1"
   ]
  },
  {
   "cell_type": "code",
   "execution_count": null,
   "id": "48e6804d",
   "metadata": {},
   "outputs": [],
   "source": [
    "df1 = pd.DataFrame({'employee': ['Bob', 'Jake', 'Lisa', 'Sue'], 'group':['Accounting', 'Engineering', 'Engineering', 'HR']})\n",
    "df2 = pd.DataFrame({'employee': ['Lisa', 'Bob', 'Jake', 'Sue'], 'hire_date':[2004, 2008, 2012, 2014]})\n",
    "print(df1); print(df2)"
   ]
  },
  {
   "cell_type": "code",
   "execution_count": null,
   "id": "0932f926",
   "metadata": {},
   "outputs": [],
   "source": [
    "df3 = pd.merge(df1, df2)\n",
    "df3"
   ]
  },
  {
   "cell_type": "code",
   "execution_count": null,
   "id": "515223ca",
   "metadata": {},
   "outputs": [],
   "source": [
    "df4 = pd.DataFrame({'group': ['Accounting', 'Engineering', 'HR'],'supervisor':['Carly', 'Guido', 'Steve']})\n",
    "print(df3); print(df4); print(pd.merge(df3, df4))"
   ]
  },
  {
   "cell_type": "code",
   "execution_count": null,
   "id": "7a694422",
   "metadata": {},
   "outputs": [],
   "source": [
    "df5 = pd.DataFrame({'group': ['Accounting', 'Accounting','Engineering''Engineering', 'HR', 'HR'],\n",
    "'skills': ['math', 'spreadsheets', 'coding''linux','spreadsheets', 'organization']})\n",
    "print(df1); print(df5); print(pd.merge(df1, df5))\n"
   ]
  },
  {
   "cell_type": "code",
   "execution_count": null,
   "id": "d4c111d8",
   "metadata": {},
   "outputs": [],
   "source": [
    "# on keyword\n",
    "print(df1); print(df2); print(pd.merge(df1, df2, on='employee'))\n"
   ]
  },
  {
   "cell_type": "code",
   "execution_count": null,
   "id": "ef476a35",
   "metadata": {},
   "outputs": [],
   "source": [
    "#The left_on and right_on keywords\n",
    "df3 = pd.DataFrame({'name': ['Bob', 'Jake', 'Lisa', 'Sue'],'salary': [70000,80000, 120000, 90000]})\n",
    "print(df1); print(df3);\n",
    "print(pd.merge(df1, df3, left_on=\"employee\", right_on=\"name\"))#The left_on and right_on keywords\n",
    "df3 = pd.DataFrame({'name': ['Bob', 'Jake', 'Lisa', 'Sue'],'salary': [70000,80000, 120000, 90000]})\n",
    "print(df1); print(df3);\n",
    "print(pd.merge(df1, df3, left_on=\"employee\", right_on=\"name\"))"
   ]
  },
  {
   "cell_type": "code",
   "execution_count": null,
   "id": "a5b71bf4",
   "metadata": {},
   "outputs": [],
   "source": [
    "pd.merge(df1, df3, left_on=\"employee\", right_on=\"name\").drop('name', axis=1)"
   ]
  },
  {
   "cell_type": "code",
   "execution_count": null,
   "id": "ccb3ed75",
   "metadata": {},
   "outputs": [],
   "source": [
    "# The left_index and right_index keywords\n",
    "# Sometimes, rather than merging on a column, you would instead like to merge on an index.\n",
    "df1a = df1.set_index('employee')\n",
    "df2a = df2.set_index('employee')\n",
    "print(df1a)\n",
    "print(df2a)\n",
    "print(pd.merge(df1a, df2a, left_index=True, right_index=True))"
   ]
  },
  {
   "cell_type": "code",
   "execution_count": null,
   "id": "2d28f9cc",
   "metadata": {},
   "outputs": [],
   "source": [
    "# For convenience, DataFrames implement the join() method, which performs a merge that defaults to joining on indices\n",
    "print(df1a)\n",
    "print(df2a)\n",
    "print(df1a.join(df2a))\n"
   ]
  },
  {
   "cell_type": "code",
   "execution_count": null,
   "id": "0249516c",
   "metadata": {},
   "outputs": [],
   "source": [
    "print(df1a); print(df3);\n",
    "print(pd.merge(df1a, df3, left_index=True, right_on='name'))"
   ]
  },
  {
   "cell_type": "code",
   "execution_count": null,
   "id": "8a5faab0",
   "metadata": {},
   "outputs": [],
   "source": [
    "df6 = pd.DataFrame({'name': ['Peter', 'Paul', 'Mary'],'food': ['fish', 'beans','bread']},columns=['name', 'food'])\n",
    "df7 = pd.DataFrame({'name': ['Mary', 'Joseph'],'drink': ['wine','beer']},columns=['name', 'drink'])\n",
    "print(df6); print(df7); print(pd.merge(df6, df7))"
   ]
  },
  {
   "cell_type": "code",
   "execution_count": null,
   "id": "29146d33",
   "metadata": {},
   "outputs": [],
   "source": [
    "import pandas as pd"
   ]
  },
  {
   "cell_type": "code",
   "execution_count": null,
   "id": "ffaa8501",
   "metadata": {},
   "outputs": [],
   "source": [
    "df=pd.read_csv('https://raw.githubusercontent.com/slmsshk/DataSet/main/Salaries.csv')\n",
    "df"
   ]
  },
  {
   "cell_type": "code",
   "execution_count": null,
   "id": "1a40544e",
   "metadata": {},
   "outputs": [],
   "source": [
    "type(df)"
   ]
  },
  {
   "cell_type": "code",
   "execution_count": null,
   "id": "512288ee",
   "metadata": {},
   "outputs": [],
   "source": [
    "df.head()"
   ]
  },
  {
   "cell_type": "code",
   "execution_count": null,
   "id": "ef2d49c1",
   "metadata": {},
   "outputs": [],
   "source": [
    "df.head(5)"
   ]
  },
  {
   "cell_type": "code",
   "execution_count": null,
   "id": "73bc1ce0",
   "metadata": {},
   "outputs": [],
   "source": [
    "df.tail()"
   ]
  },
  {
   "cell_type": "code",
   "execution_count": null,
   "id": "f5ddfa07",
   "metadata": {},
   "outputs": [],
   "source": [
    "df.shape"
   ]
  },
  {
   "cell_type": "code",
   "execution_count": null,
   "id": "0df0a11b",
   "metadata": {},
   "outputs": [],
   "source": [
    "df.mean()"
   ]
  },
  {
   "cell_type": "code",
   "execution_count": null,
   "id": "1f5816fa",
   "metadata": {},
   "outputs": [],
   "source": [
    "df.min()"
   ]
  },
  {
   "cell_type": "code",
   "execution_count": null,
   "id": "dacedf76",
   "metadata": {},
   "outputs": [],
   "source": [
    "df.max()"
   ]
  },
  {
   "cell_type": "code",
   "execution_count": null,
   "id": "d8082c93",
   "metadata": {},
   "outputs": [],
   "source": [
    "df.std()"
   ]
  },
  {
   "cell_type": "code",
   "execution_count": null,
   "id": "c945a8ae",
   "metadata": {},
   "outputs": [],
   "source": [
    "import seaborn as sns"
   ]
  },
  {
   "cell_type": "code",
   "execution_count": null,
   "id": "ca13e1fb",
   "metadata": {},
   "outputs": [],
   "source": [
    "planets = sns.load_dataset('planets')\n",
    "planets.shape"
   ]
  },
  {
   "cell_type": "code",
   "execution_count": null,
   "id": "e95e70ea",
   "metadata": {},
   "outputs": [],
   "source": [
    "planets.head()"
   ]
  },
  {
   "cell_type": "code",
   "execution_count": null,
   "id": "c20009ed",
   "metadata": {},
   "outputs": [],
   "source": [
    "planets.dropna().describe()"
   ]
  },
  {
   "cell_type": "code",
   "execution_count": null,
   "id": "d4d1bce4",
   "metadata": {},
   "outputs": [],
   "source": [
    "planets.count()"
   ]
  },
  {
   "cell_type": "code",
   "execution_count": null,
   "id": "e0432f82",
   "metadata": {},
   "outputs": [],
   "source": [
    "planets.var()"
   ]
  },
  {
   "cell_type": "markdown",
   "id": "4a26b249",
   "metadata": {},
   "source": [
    "# GroupBy: Split, Apply, Combin"
   ]
  },
  {
   "cell_type": "code",
   "execution_count": null,
   "id": "e852a3e7",
   "metadata": {},
   "outputs": [],
   "source": [
    "df = pd.DataFrame({'key': ['A', 'B', 'C', 'A', 'B', 'C'], 'data': range(6)},columns=['key', 'data'])\n",
    "df"
   ]
  },
  {
   "cell_type": "code",
   "execution_count": null,
   "id": "e04ccffb",
   "metadata": {},
   "outputs": [],
   "source": [
    "df.groupby('key')"
   ]
  },
  {
   "cell_type": "code",
   "execution_count": null,
   "id": "59fd009f",
   "metadata": {},
   "outputs": [],
   "source": [
    "df"
   ]
  },
  {
   "cell_type": "code",
   "execution_count": null,
   "id": "50d4b65c",
   "metadata": {},
   "outputs": [],
   "source": [
    "df.groupby('key').sum()"
   ]
  },
  {
   "cell_type": "code",
   "execution_count": null,
   "id": "32a55a0a",
   "metadata": {},
   "outputs": [],
   "source": [
    "df.groupby('key').mean()"
   ]
  },
  {
   "cell_type": "code",
   "execution_count": null,
   "id": "40608f78",
   "metadata": {},
   "outputs": [],
   "source": [
    "planets.head()"
   ]
  },
  {
   "cell_type": "code",
   "execution_count": null,
   "id": "a5e2dcbd",
   "metadata": {},
   "outputs": [],
   "source": [
    "planets.groupby('method')"
   ]
  },
  {
   "cell_type": "code",
   "execution_count": null,
   "id": "3db22996",
   "metadata": {},
   "outputs": [],
   "source": [
    "planets.groupby('method')['orbital_period']\n"
   ]
  },
  {
   "cell_type": "code",
   "execution_count": null,
   "id": "48076dbb",
   "metadata": {},
   "outputs": [],
   "source": [
    "planets.groupby('method').median()\n"
   ]
  },
  {
   "cell_type": "code",
   "execution_count": null,
   "id": "18ea6047",
   "metadata": {},
   "outputs": [],
   "source": [
    "planets.groupby('method')['orbital_period'].median()"
   ]
  },
  {
   "cell_type": "code",
   "execution_count": null,
   "id": "3765aa4c",
   "metadata": {},
   "outputs": [],
   "source": [
    "for (method, group) in planets.groupby('method'):\n",
    "    print(\"{0:30s} shape={1}\".format(method, group.shape))"
   ]
  },
  {
   "cell_type": "code",
   "execution_count": null,
   "id": "b8a4b319",
   "metadata": {},
   "outputs": [],
   "source": [
    "planets.groupby('method')['distance'].describe()\n"
   ]
  },
  {
   "cell_type": "code",
   "execution_count": null,
   "id": "91844a61",
   "metadata": {},
   "outputs": [],
   "source": [
    "rng = np.random.RandomState(0)\n",
    "df = pd.DataFrame({'key': ['A', 'B', 'C', 'A', 'B', 'C'], 'data1': range(6),'data2': rng.randint(0, 10, 6)}, columns = ['key', 'data1', 'data2'])\n",
    "df\n"
   ]
  },
  {
   "cell_type": "markdown",
   "id": "f32a984d",
   "metadata": {},
   "source": [
    "# Aggregation"
   ]
  },
  {
   "cell_type": "code",
   "execution_count": null,
   "id": "c916f831",
   "metadata": {},
   "outputs": [],
   "source": [
    "df.groupby('key').aggregate(['min', np.median, max])\n"
   ]
  },
  {
   "cell_type": "code",
   "execution_count": null,
   "id": "b35e79ad",
   "metadata": {},
   "outputs": [],
   "source": [
    "df.groupby('key').aggregate({'data1': 'min', 'data2': 'max'})\n"
   ]
  },
  {
   "cell_type": "code",
   "execution_count": null,
   "id": "e9798932",
   "metadata": {},
   "outputs": [],
   "source": [
    "df.groupby('key').aggregate({'data1': ['min','max'], 'data2': 'max'})"
   ]
  },
  {
   "cell_type": "markdown",
   "id": "2bfc20f4",
   "metadata": {},
   "source": [
    "# Filtering\n"
   ]
  },
  {
   "cell_type": "code",
   "execution_count": null,
   "id": "f32cf003",
   "metadata": {},
   "outputs": [],
   "source": [
    "def filter_func(x):\n",
    "    return x['data2'].std() > 4\n",
    "\n",
    "print(df);\n",
    "print(df.groupby('key').std())\n",
    "print(df.groupby('key').filter(filter_func))\n"
   ]
  },
  {
   "cell_type": "code",
   "execution_count": null,
   "id": "0779c431",
   "metadata": {},
   "outputs": [],
   "source": [
    "df.groupby('key').transform(lambda x: x - x.mean())\n"
   ]
  },
  {
   "cell_type": "code",
   "execution_count": null,
   "id": "ad3a9f93",
   "metadata": {},
   "outputs": [],
   "source": [
    "def norm_by_data2(x):\n",
    "    # x is a DataFrame of group values\n",
    "    x['data1'] /= x['data2'].sum()\n",
    "    return x\n",
    "\n",
    "print(df)\n",
    "\n",
    "print(df.groupby('key').apply(norm_by_data2))"
   ]
  },
  {
   "cell_type": "code",
   "execution_count": null,
   "id": "7dbb90d7",
   "metadata": {},
   "outputs": [],
   "source": [
    "L = [0, 1, 0, 1, 2, 0]\n",
    "print(df)\n",
    "print(df.groupby(L).sum())"
   ]
  },
  {
   "cell_type": "code",
   "execution_count": null,
   "id": "0f26fcdf",
   "metadata": {},
   "outputs": [],
   "source": [
    "print(df)\n",
    "print(df.groupby(df['key']).sum())\n"
   ]
  },
  {
   "cell_type": "code",
   "execution_count": null,
   "id": "7ebb6dd8",
   "metadata": {},
   "outputs": [],
   "source": [
    "df2 = df.set_index('key')\n",
    "mapping = {'A': 'vowel', 'B': 'consonant', 'C': 'consonant'}\n",
    "print(df2)\n",
    "print(df2.groupby(mapping).sum())\n"
   ]
  },
  {
   "cell_type": "code",
   "execution_count": null,
   "id": "933c0fe2",
   "metadata": {},
   "outputs": [],
   "source": [
    "print(df2)\n",
    "print(df2.groupby(str.lower).mean())"
   ]
  },
  {
   "cell_type": "code",
   "execution_count": null,
   "id": "909d038c",
   "metadata": {},
   "outputs": [],
   "source": [
    "df2.groupby([str.lower, mapping]).mean()"
   ]
  },
  {
   "cell_type": "code",
   "execution_count": null,
   "id": "ec44dd8a",
   "metadata": {},
   "outputs": [],
   "source": [
    "decade = 10 * (planets['year'] // 10)\n",
    "decade"
   ]
  },
  {
   "cell_type": "markdown",
   "id": "630c9e4c",
   "metadata": {},
   "source": [
    "# Pivot Tables"
   ]
  },
  {
   "cell_type": "code",
   "execution_count": null,
   "id": "9bac223a",
   "metadata": {},
   "outputs": [],
   "source": [
    "import numpy as np\n",
    "import pandas as pd\n",
    "import seaborn as sns\n",
    "titanic = sns.load_dataset('titanic')"
   ]
  },
  {
   "cell_type": "code",
   "execution_count": null,
   "id": "4e749692",
   "metadata": {},
   "outputs": [],
   "source": [
    "titanic.head()\n"
   ]
  },
  {
   "cell_type": "code",
   "execution_count": null,
   "id": "1a176ccb",
   "metadata": {},
   "outputs": [],
   "source": [
    "titanic.groupby('sex')[['survived']].mean()"
   ]
  },
  {
   "cell_type": "code",
   "execution_count": null,
   "id": "02619b45",
   "metadata": {},
   "outputs": [],
   "source": [
    "titanic.groupby(['sex', 'class'])['survived'].aggregate('mean').unstack()"
   ]
  },
  {
   "cell_type": "code",
   "execution_count": null,
   "id": "e282cdc7",
   "metadata": {},
   "outputs": [],
   "source": [
    "titanic.pivot_table('survived', index='sex', columns='class')"
   ]
  },
  {
   "cell_type": "code",
   "execution_count": null,
   "id": "5926b5b8",
   "metadata": {},
   "outputs": [],
   "source": [
    "age = pd.cut(titanic['age'], [0, 18, 80])\n",
    "titanic.pivot_table('survived', ['sex', age], 'class')"
   ]
  },
  {
   "cell_type": "markdown",
   "id": "1631e44a",
   "metadata": {},
   "source": [
    "# Matplotlib"
   ]
  },
  {
   "cell_type": "code",
   "execution_count": null,
   "id": "0a6576ac",
   "metadata": {},
   "outputs": [],
   "source": [
    "import matplotlib.pyplot as plt\n",
    "import numpy as np"
   ]
  },
  {
   "cell_type": "code",
   "execution_count": null,
   "id": "8c0e6c0b",
   "metadata": {},
   "outputs": [],
   "source": [
    "ax = plt.subplot() # Create a figure containing a single axes.\n",
    "ax.plot([1, 2, 3, 4], [1, 4, 2, 3]) # Plot some data on the axes.\n"
   ]
  },
  {
   "cell_type": "code",
   "execution_count": null,
   "id": "f7e15de6",
   "metadata": {},
   "outputs": [],
   "source": [
    "fig, ax = plt.subplots() # Create a figure containing a single axes.\n",
    "ax.plot([1, 2, 3, 4], [1, 4, 2, 3]) # Plot some data on the axes."
   ]
  },
  {
   "cell_type": "code",
   "execution_count": null,
   "id": "1603768f",
   "metadata": {},
   "outputs": [],
   "source": [
    " plt.figure(figsize=(9, 4))\n",
    "plt.plot([1, 2, 3, 4], [1, 4, 2, 3]) # Create a figure containing a single axes.\n"
   ]
  },
  {
   "cell_type": "code",
   "execution_count": null,
   "id": "e08487f6",
   "metadata": {},
   "outputs": [],
   "source": [
    "fig = plt.figure() # an empty figure with no Axes\n",
    "fig, ax = plt.subplots() # a figure with a single Axes\n",
    "fig, axs = plt.subplots(2, 2) # a figure with a 2x2 grid of Axes"
   ]
  },
  {
   "cell_type": "code",
   "execution_count": null,
   "id": "b24ead3f",
   "metadata": {},
   "outputs": [],
   "source": [
    "##OO-style\n",
    "x = np.linspace(0, 2, 100)\n",
    "# Note that even in the OO-style, we use `.pyplot.figure` to create the figure.\n",
    "fig, ax = plt.subplots() # Create a figure and an axes.\n",
    "ax.plot(x, x, label='linear') # Plot some data on the axes.\n",
    "ax.plot(x, x**2, label='quadratic') # Plot more data on the axes...\n",
    "ax.plot(x, x**3, label='cubic') # ... and some more.\n",
    "ax.set_xlabel('x label') # Add an x-label to the axes.\n",
    "ax.set_ylabel('y label') # Add a y-label to the axes.\n",
    "ax.set_title(\"Simple Plot\") # Add a title to the axes.\n",
    "ax.legend() # Add a legend."
   ]
  },
  {
   "cell_type": "code",
   "execution_count": null,
   "id": "f1070a34",
   "metadata": {},
   "outputs": [],
   "source": [
    "data1, data2, data3, data4 = np.random.randn(4, 100)\n",
    "fig, ax = plt.subplots(1, 1)\n",
    "ax.plot(data1,data2)"
   ]
  },
  {
   "cell_type": "code",
   "execution_count": null,
   "id": "4d7002cd",
   "metadata": {},
   "outputs": [],
   "source": [
    "fig, (ax1, ax2) = plt.subplots(1, 2)\n",
    "ax1.plot(data1, data2)\n",
    "ax1.plot(data3, data4)\n",
    "ax2.boxplot(data4)\n",
    "ax2.hist(data4)"
   ]
  },
  {
   "cell_type": "code",
   "execution_count": null,
   "id": "7e85b470",
   "metadata": {},
   "outputs": [],
   "source": [
    "x = np.arange(0, 5, 0.1)\n",
    "y = np.sin(x)\n",
    "plt.plot(x, y)\n"
   ]
  },
  {
   "cell_type": "code",
   "execution_count": null,
   "id": "f50815eb",
   "metadata": {},
   "outputs": [],
   "source": [
    "plt.plot([1, 2, 3, 4])\n",
    "plt.ylabel('some numbers')\n",
    "plt.show()\n"
   ]
  },
  {
   "cell_type": "code",
   "execution_count": null,
   "id": "ff1c8fc9",
   "metadata": {},
   "outputs": [],
   "source": [
    "plt.plot([1, 2, 3, 4], [1, 4, 9, 16])"
   ]
  },
  {
   "cell_type": "code",
   "execution_count": null,
   "id": "bb0ae5aa",
   "metadata": {},
   "outputs": [],
   "source": [
    "x=[1, 2, 3, 4]\n",
    "y=[1, 4, 9, 16]\n",
    "z=[3,6,11,18]\n",
    "plt.plot(x,y,color='green',label='Bill')\n",
    "plt.plot(x,z,color='red',label='BBBB')\n",
    "plt.legend()\n"
   ]
  },
  {
   "cell_type": "code",
   "execution_count": null,
   "id": "65c65544",
   "metadata": {},
   "outputs": [],
   "source": [
    "plt.plot([1, 2, 3, 4], [1, 4, 9, 16],color='green',marker='P',markersize=19,linewidth=5,linestyle='dashdot')"
   ]
  },
  {
   "cell_type": "code",
   "execution_count": null,
   "id": "51b95ebf",
   "metadata": {},
   "outputs": [],
   "source": [
    "x=[\"Satara\",\"Sangli\",\"Kolhapur\"]\n",
    "y=[20,10,30]\n",
    "plt.bar(x,y)\n"
   ]
  },
  {
   "cell_type": "code",
   "execution_count": null,
   "id": "11cf0ab4",
   "metadata": {},
   "outputs": [],
   "source": [
    "x=[\"Satara\",\"Sangli\",\"Kolhapur\"]\n",
    "y=[20,10,30]\n",
    "plt.bar(x,y,width=0.1,edgecolor='r',color='g')\n"
   ]
  },
  {
   "cell_type": "code",
   "execution_count": null,
   "id": "c323da25",
   "metadata": {},
   "outputs": [],
   "source": [
    "x=[1,2,5]\n",
    "y=[20,10,30]\n",
    "plt.bar(x,y,width=0.8,edgecolor='r',color='g')"
   ]
  },
  {
   "cell_type": "code",
   "execution_count": null,
   "id": "cf3c4c92",
   "metadata": {},
   "outputs": [],
   "source": [
    "X = ['Group A','Group B','Group C','Group D']\n",
    "Ygirls = [10,20,20,40]\n",
    "Zboys = [20,30,25,30]\n",
    "X_axis = np.arange(len(X))\n",
    "plt.bar(X_axis - 0.2, Ygirls, width=0.4, label = 'Girls')\n",
    "plt.bar(X_axis + 0.2, Zboys, width=0.4, label = 'Boys')\n",
    "plt.xticks(X_axis, X)\n",
    "plt.xlabel(\"Groups\")\n",
    "plt.ylabel(\"Number of Students\")\n",
    "plt.title(\"Number of Students in each group\")\n",
    "plt.legend()\n",
    "plt.show()"
   ]
  },
  {
   "cell_type": "code",
   "execution_count": null,
   "id": "d32f409f",
   "metadata": {},
   "outputs": [],
   "source": [
    "x=[\"Satara\",\"Sangli\",\"Kolhapur\"]\n",
    "y=[20,10,30]\n",
    "plt.barh(x,y)"
   ]
  },
  {
   "cell_type": "code",
   "execution_count": null,
   "id": "4ed97bb0",
   "metadata": {},
   "outputs": [],
   "source": [
    "# Pie chart, where the slices will be ordered and plotted counter-clockwise:\n",
    "labels = 'Frogs', 'Hogs', 'Dogs', 'Logs'\n",
    "sizes = [15, 30, 45, 10]\n",
    "plt.pie(sizes, labels=labels)\n",
    "plt.show()"
   ]
  },
  {
   "cell_type": "code",
   "execution_count": null,
   "id": "911336e0",
   "metadata": {},
   "outputs": [],
   "source": [
    "# Pie chart, where the slices will be ordered and plotted counter-clockwise:\n",
    "labels = 'Frogs', 'Hogs', 'Dogs', 'Logs'\n",
    "sizes = [15, 30, 45, 10]\n",
    "explode = (0, 0.1, 0.1, 0) # only \"explode\" the 2nd slice (i.e. 'Hogs')\n",
    "\n",
    "fig1, ax1 = plt.subplots()\n",
    "ax1.pie(sizes, explode=explode, labels=labels, autopct='%1.1f%%',shadow=True,startangle=90)\n",
    "ax1.axis('equal') # Equal aspect ratio ensures that pie is drawn as a circle.\n",
    "plt.show()"
   ]
  },
  {
   "cell_type": "code",
   "execution_count": null,
   "id": "3bc9d0a3",
   "metadata": {},
   "outputs": [],
   "source": [
    "x=np.random.randn(1000)\n",
    "plt.boxplot(x)\n",
    "plt.show()"
   ]
  },
  {
   "cell_type": "code",
   "execution_count": null,
   "id": "447034fc",
   "metadata": {},
   "outputs": [],
   "source": []
  }
 ],
 "metadata": {
  "kernelspec": {
   "display_name": "Python 3 (ipykernel)",
   "language": "python",
   "name": "python3"
  },
  "language_info": {
   "codemirror_mode": {
    "name": "ipython",
    "version": 3
   },
   "file_extension": ".py",
   "mimetype": "text/x-python",
   "name": "python",
   "nbconvert_exporter": "python",
   "pygments_lexer": "ipython3",
   "version": "3.9.12"
  }
 },
 "nbformat": 4,
 "nbformat_minor": 5
}
